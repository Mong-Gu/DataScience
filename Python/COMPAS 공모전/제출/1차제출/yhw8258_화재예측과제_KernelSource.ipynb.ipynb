{
 "cells": [
  {
   "cell_type": "markdown",
   "metadata": {},
   "source": [
    "# <div style align = 'center'>COMPAS 김해시 화재발생 예측모델 개발</style>"
   ]
  },
  {
   "cell_type": "markdown",
   "metadata": {},
   "source": [
    "## <font color='red'>Import Module</font> "
   ]
  },
  {
   "cell_type": "code",
   "execution_count": 2,
   "metadata": {},
   "outputs": [
    {
     "name": "stdout",
     "output_type": "stream",
     "text": [
      "Requirement already satisfied: missingno in c:\\users\\user\\anaconda3\\lib\\site-packages (0.4.2)\n",
      "Requirement already satisfied: seaborn in c:\\users\\user\\anaconda3\\lib\\site-packages (from missingno) (0.9.0)\n",
      "Requirement already satisfied: numpy in c:\\users\\user\\anaconda3\\lib\\site-packages (from missingno) (1.16.4)\n",
      "Requirement already satisfied: scipy in c:\\users\\user\\anaconda3\\lib\\site-packages (from missingno) (1.2.1)\n",
      "Requirement already satisfied: matplotlib in c:\\users\\user\\anaconda3\\lib\\site-packages (from missingno) (3.1.0)\n",
      "Requirement already satisfied: pandas>=0.15.2 in c:\\users\\user\\anaconda3\\lib\\site-packages (from seaborn->missingno) (0.24.2)\n",
      "Requirement already satisfied: cycler>=0.10 in c:\\users\\user\\anaconda3\\lib\\site-packages (from matplotlib->missingno) (0.10.0)\n",
      "Requirement already satisfied: kiwisolver>=1.0.1 in c:\\users\\user\\anaconda3\\lib\\site-packages (from matplotlib->missingno) (1.1.0)\n",
      "Requirement already satisfied: pyparsing!=2.0.4,!=2.1.2,!=2.1.6,>=2.0.1 in c:\\users\\user\\anaconda3\\lib\\site-packages (from matplotlib->missingno) (2.4.0)\n",
      "Requirement already satisfied: python-dateutil>=2.1 in c:\\users\\user\\anaconda3\\lib\\site-packages (from matplotlib->missingno) (2.8.0)\n",
      "Requirement already satisfied: pytz>=2011k in c:\\users\\user\\anaconda3\\lib\\site-packages (from pandas>=0.15.2->seaborn->missingno) (2019.1)\n",
      "Requirement already satisfied: six in c:\\users\\user\\anaconda3\\lib\\site-packages (from cycler>=0.10->matplotlib->missingno) (1.12.0)\n",
      "Requirement already satisfied: setuptools in c:\\users\\user\\anaconda3\\lib\\site-packages (from kiwisolver>=1.0.1->matplotlib->missingno) (41.0.1)\n"
     ]
    }
   ],
   "source": [
    "import numpy as np\n",
    "import pandas as pd\n",
    "import seaborn as sns\n",
    "import matplotlib.pyplot as plt\n",
    "from sklearn.metrics import f1_score\n",
    "from sklearn.metrics import accuracy_score\n",
    "!pip install missingno\n",
    "import missingno as msno\n",
    "import math"
   ]
  },
  {
   "cell_type": "code",
   "execution_count": 3,
   "metadata": {},
   "outputs": [],
   "source": [
    "#ignore warnings\n",
    "import warnings\n",
    "warnings.filterwarnings('ignore')"
   ]
  },
  {
   "cell_type": "markdown",
   "metadata": {},
   "source": [
    "## <font color='red'>Load Dataset</font>"
   ]
  },
  {
   "cell_type": "code",
   "execution_count": 4,
   "metadata": {},
   "outputs": [],
   "source": [
    "# dt_of_fr은 날짜로 해석하기 위해 parse_dates 옵션 추가\n",
    "train = pd.read_csv('C:/develop/jupyter notebook/COMPAS/PJT002_train.csv', parse_dates=[\"dt_of_fr\"])\n",
    "val = pd.read_csv('C:/develop/jupyter notebook/COMPAS/PJT002_validation.csv', parse_dates=[\"dt_of_fr\"])\n",
    "test = pd.read_csv('C:/develop/jupyter notebook/COMPAS/PJT002_test.csv', parse_dates=[\"dt_of_fr\"])\n",
    "sub = pd.read_csv('C:/develop/jupyter notebook/COMPAS/PJT002_submission.csv')"
   ]
  },
  {
   "cell_type": "markdown",
   "metadata": {},
   "source": [
    "## <font color='red'>Data Check</font>"
   ]
  },
  {
   "cell_type": "code",
   "execution_count": 5,
   "metadata": {},
   "outputs": [
    {
     "name": "stdout",
     "output_type": "stream",
     "text": [
      "(59199, 180)\n",
      "(6898, 180)\n",
      "(2957, 180)\n"
     ]
    }
   ],
   "source": [
    "print(train.shape)\n",
    "print(val.shape)\n",
    "print(test.shape)"
   ]
  },
  {
   "cell_type": "markdown",
   "metadata": {},
   "source": [
    "#### train dataset에 대한 간단한 분석"
   ]
  },
  {
   "cell_type": "code",
   "execution_count": 6,
   "metadata": {},
   "outputs": [
    {
     "data": {
      "text/html": [
       "<div>\n",
       "<style scoped>\n",
       "    .dataframe tbody tr th:only-of-type {\n",
       "        vertical-align: middle;\n",
       "    }\n",
       "\n",
       "    .dataframe tbody tr th {\n",
       "        vertical-align: top;\n",
       "    }\n",
       "\n",
       "    .dataframe thead th {\n",
       "        text-align: right;\n",
       "    }\n",
       "</style>\n",
       "<table border=\"1\" class=\"dataframe\">\n",
       "  <thead>\n",
       "    <tr style=\"text-align: right;\">\n",
       "      <th></th>\n",
       "      <th>dt_of_fr</th>\n",
       "      <th>fr_yn</th>\n",
       "      <th>bldng_us</th>\n",
       "      <th>bldng_archtctr</th>\n",
       "      <th>bldng_cnt</th>\n",
       "      <th>bldng_ar</th>\n",
       "      <th>ttl_ar</th>\n",
       "      <th>lnd_ar</th>\n",
       "      <th>dt_of_athrztn</th>\n",
       "      <th>ttl_grnd_flr</th>\n",
       "      <th>...</th>\n",
       "      <th>no_tbc_zn_dstnc</th>\n",
       "      <th>bldng_cnt_in_50m</th>\n",
       "      <th>trgt_crtr</th>\n",
       "      <th>fr_fghtng_fclt_spcl_css_5_yn</th>\n",
       "      <th>fr_fghtng_fclt_spcl_css_6_yn</th>\n",
       "      <th>us_yn</th>\n",
       "      <th>dngrs_thng_yn</th>\n",
       "      <th>slf_fr_brgd_yn</th>\n",
       "      <th>blk_dngrs_thng_mnfctr_yn</th>\n",
       "      <th>cltrl_hrtg_yn</th>\n",
       "    </tr>\n",
       "  </thead>\n",
       "  <tbody>\n",
       "    <tr>\n",
       "      <th>0</th>\n",
       "      <td>2017-10-20 05:54:00</td>\n",
       "      <td>Y</td>\n",
       "      <td>단독주택</td>\n",
       "      <td>블록구조</td>\n",
       "      <td>3</td>\n",
       "      <td>69.42</td>\n",
       "      <td>69.42</td>\n",
       "      <td>0.0</td>\n",
       "      <td>1977</td>\n",
       "      <td>1.0</td>\n",
       "      <td>...</td>\n",
       "      <td>88</td>\n",
       "      <td>0</td>\n",
       "      <td>NaN</td>\n",
       "      <td>NaN</td>\n",
       "      <td>NaN</td>\n",
       "      <td>NaN</td>\n",
       "      <td>NaN</td>\n",
       "      <td>NaN</td>\n",
       "      <td>NaN</td>\n",
       "      <td>NaN</td>\n",
       "    </tr>\n",
       "    <tr>\n",
       "      <th>1</th>\n",
       "      <td>2018-09-30 08:26:00</td>\n",
       "      <td>N</td>\n",
       "      <td>NaN</td>\n",
       "      <td>NaN</td>\n",
       "      <td>3</td>\n",
       "      <td>46.29</td>\n",
       "      <td>46.29</td>\n",
       "      <td>0.0</td>\n",
       "      <td>NaN</td>\n",
       "      <td>1.0</td>\n",
       "      <td>...</td>\n",
       "      <td>7727</td>\n",
       "      <td>0</td>\n",
       "      <td>NaN</td>\n",
       "      <td>NaN</td>\n",
       "      <td>NaN</td>\n",
       "      <td>NaN</td>\n",
       "      <td>NaN</td>\n",
       "      <td>NaN</td>\n",
       "      <td>NaN</td>\n",
       "      <td>NaN</td>\n",
       "    </tr>\n",
       "    <tr>\n",
       "      <th>2</th>\n",
       "      <td>2016-10-30 14:57:00</td>\n",
       "      <td>Y</td>\n",
       "      <td>공동주택</td>\n",
       "      <td>철근콘크리트구조</td>\n",
       "      <td>1</td>\n",
       "      <td>583.80</td>\n",
       "      <td>2516.76</td>\n",
       "      <td>1446.0</td>\n",
       "      <td>2.00011e+07</td>\n",
       "      <td>5.0</td>\n",
       "      <td>...</td>\n",
       "      <td>72</td>\n",
       "      <td>14</td>\n",
       "      <td>NaN</td>\n",
       "      <td>NaN</td>\n",
       "      <td>NaN</td>\n",
       "      <td>NaN</td>\n",
       "      <td>NaN</td>\n",
       "      <td>NaN</td>\n",
       "      <td>NaN</td>\n",
       "      <td>NaN</td>\n",
       "    </tr>\n",
       "    <tr>\n",
       "      <th>3</th>\n",
       "      <td>2016-06-14 05:23:00</td>\n",
       "      <td>N</td>\n",
       "      <td>단독주택</td>\n",
       "      <td>일반목구조</td>\n",
       "      <td>2</td>\n",
       "      <td>48.92</td>\n",
       "      <td>48.92</td>\n",
       "      <td>0.0</td>\n",
       "      <td>1936</td>\n",
       "      <td>1.0</td>\n",
       "      <td>...</td>\n",
       "      <td>508</td>\n",
       "      <td>11</td>\n",
       "      <td>NaN</td>\n",
       "      <td>NaN</td>\n",
       "      <td>NaN</td>\n",
       "      <td>NaN</td>\n",
       "      <td>NaN</td>\n",
       "      <td>NaN</td>\n",
       "      <td>NaN</td>\n",
       "      <td>NaN</td>\n",
       "    </tr>\n",
       "    <tr>\n",
       "      <th>4</th>\n",
       "      <td>2018-04-22 05:38:00</td>\n",
       "      <td>N</td>\n",
       "      <td>NaN</td>\n",
       "      <td>NaN</td>\n",
       "      <td>2</td>\n",
       "      <td>0.00</td>\n",
       "      <td>0.00</td>\n",
       "      <td>0.0</td>\n",
       "      <td>NaN</td>\n",
       "      <td>NaN</td>\n",
       "      <td>...</td>\n",
       "      <td>707</td>\n",
       "      <td>0</td>\n",
       "      <td>NaN</td>\n",
       "      <td>NaN</td>\n",
       "      <td>NaN</td>\n",
       "      <td>NaN</td>\n",
       "      <td>NaN</td>\n",
       "      <td>NaN</td>\n",
       "      <td>NaN</td>\n",
       "      <td>NaN</td>\n",
       "    </tr>\n",
       "  </tbody>\n",
       "</table>\n",
       "<p>5 rows × 180 columns</p>\n",
       "</div>"
      ],
      "text/plain": [
       "             dt_of_fr fr_yn bldng_us bldng_archtctr  bldng_cnt  bldng_ar  \\\n",
       "0 2017-10-20 05:54:00     Y     단독주택           블록구조          3     69.42   \n",
       "1 2018-09-30 08:26:00     N      NaN            NaN          3     46.29   \n",
       "2 2016-10-30 14:57:00     Y     공동주택       철근콘크리트구조          1    583.80   \n",
       "3 2016-06-14 05:23:00     N     단독주택          일반목구조          2     48.92   \n",
       "4 2018-04-22 05:38:00     N      NaN            NaN          2      0.00   \n",
       "\n",
       "    ttl_ar  lnd_ar dt_of_athrztn  ttl_grnd_flr  ...  no_tbc_zn_dstnc  \\\n",
       "0    69.42     0.0          1977           1.0  ...               88   \n",
       "1    46.29     0.0           NaN           1.0  ...             7727   \n",
       "2  2516.76  1446.0   2.00011e+07           5.0  ...               72   \n",
       "3    48.92     0.0          1936           1.0  ...              508   \n",
       "4     0.00     0.0           NaN           NaN  ...              707   \n",
       "\n",
       "  bldng_cnt_in_50m  trgt_crtr  fr_fghtng_fclt_spcl_css_5_yn  \\\n",
       "0                0        NaN                           NaN   \n",
       "1                0        NaN                           NaN   \n",
       "2               14        NaN                           NaN   \n",
       "3               11        NaN                           NaN   \n",
       "4                0        NaN                           NaN   \n",
       "\n",
       "   fr_fghtng_fclt_spcl_css_6_yn  us_yn  dngrs_thng_yn  slf_fr_brgd_yn  \\\n",
       "0                           NaN    NaN            NaN             NaN   \n",
       "1                           NaN    NaN            NaN             NaN   \n",
       "2                           NaN    NaN            NaN             NaN   \n",
       "3                           NaN    NaN            NaN             NaN   \n",
       "4                           NaN    NaN            NaN             NaN   \n",
       "\n",
       "   blk_dngrs_thng_mnfctr_yn  cltrl_hrtg_yn  \n",
       "0                       NaN            NaN  \n",
       "1                       NaN            NaN  \n",
       "2                       NaN            NaN  \n",
       "3                       NaN            NaN  \n",
       "4                       NaN            NaN  \n",
       "\n",
       "[5 rows x 180 columns]"
      ]
     },
     "execution_count": 6,
     "metadata": {},
     "output_type": "execute_result"
    }
   ],
   "source": [
    "train.head()"
   ]
  },
  {
   "cell_type": "code",
   "execution_count": 7,
   "metadata": {},
   "outputs": [
    {
     "name": "stdout",
     "output_type": "stream",
     "text": [
      "<class 'pandas.core.frame.DataFrame'>\n",
      "RangeIndex: 59199 entries, 0 to 59198\n",
      "Data columns (total 180 columns):\n",
      "dt_of_fr                        datetime64[ns]\n",
      "fr_yn                           object\n",
      "bldng_us                        object\n",
      "bldng_archtctr                  object\n",
      "bldng_cnt                       int64\n",
      "bldng_ar                        float64\n",
      "ttl_ar                          float64\n",
      "lnd_ar                          float64\n",
      "dt_of_athrztn                   object\n",
      "ttl_grnd_flr                    float64\n",
      "ttl_dwn_flr                     float64\n",
      "bldng_us_clssfctn               object\n",
      "tmprtr                          float64\n",
      "prcpttn                         float64\n",
      "wnd_spd                         float64\n",
      "wnd_drctn                       float64\n",
      "hmdt                            float64\n",
      "gas_engry_us_201401             float64\n",
      "ele_engry_us_201401             float64\n",
      "gas_engry_us_201402             float64\n",
      "ele_engry_us_201402             float64\n",
      "gas_engry_us_201403             float64\n",
      "ele_engry_us_201403             float64\n",
      "gas_engry_us_201404             float64\n",
      "ele_engry_us_201404             float64\n",
      "gas_engry_us_201405             float64\n",
      "ele_engry_us_201405             float64\n",
      "gas_engry_us_201406             float64\n",
      "ele_engry_us_201406             float64\n",
      "gas_engry_us_201407             float64\n",
      "ele_engry_us_201407             float64\n",
      "gas_engry_us_201408             float64\n",
      "ele_engry_us_201408             float64\n",
      "gas_engry_us_201409             float64\n",
      "ele_engry_us_201409             float64\n",
      "gas_engry_us_201410             float64\n",
      "ele_engry_us_201410             float64\n",
      "gas_engry_us_201411             float64\n",
      "ele_engry_us_201411             float64\n",
      "gas_engry_us_201412             float64\n",
      "ele_engry_us_201412             float64\n",
      "gas_engry_us_201501             float64\n",
      "ele_engry_us_201501             float64\n",
      "gas_engry_us_201502             float64\n",
      "ele_engry_us_201502             float64\n",
      "gas_engry_us_201503             float64\n",
      "ele_engry_us_201503             float64\n",
      "gas_engry_us_201504             float64\n",
      "ele_engry_us_201504             float64\n",
      "gas_engry_us_201505             float64\n",
      "ele_engry_us_201505             float64\n",
      "gas_engry_us_201506             float64\n",
      "ele_engry_us_201506             float64\n",
      "gas_engry_us_201507             float64\n",
      "ele_engry_us_201507             float64\n",
      "gas_engry_us_201508             float64\n",
      "ele_engry_us_201508             float64\n",
      "gas_engry_us_201509             float64\n",
      "ele_engry_us_201509             float64\n",
      "gas_engry_us_201510             float64\n",
      "ele_engry_us_201510             float64\n",
      "gas_engry_us_201511             float64\n",
      "ele_engry_us_201511             float64\n",
      "gas_engry_us_201512             float64\n",
      "ele_engry_us_201512             float64\n",
      "gas_engry_us_201601             float64\n",
      "ele_engry_us_201601             float64\n",
      "gas_engry_us_201602             float64\n",
      "ele_engry_us_201602             float64\n",
      "gas_engry_us_201603             float64\n",
      "ele_engry_us_201603             float64\n",
      "gas_engry_us_201604             float64\n",
      "ele_engry_us_201604             float64\n",
      "gas_engry_us_201605             float64\n",
      "ele_engry_us_201605             float64\n",
      "gas_engry_us_201606             float64\n",
      "ele_engry_us_201606             float64\n",
      "gas_engry_us_201607             float64\n",
      "ele_engry_us_201607             float64\n",
      "gas_engry_us_201608             float64\n",
      "ele_engry_us_201608             float64\n",
      "gas_engry_us_201609             float64\n",
      "ele_engry_us_201609             float64\n",
      "gas_engry_us_201610             float64\n",
      "ele_engry_us_201610             float64\n",
      "gas_engry_us_201611             float64\n",
      "ele_engry_us_201611             float64\n",
      "gas_engry_us_201612             float64\n",
      "ele_engry_us_201612             float64\n",
      "gas_engry_us_201701             float64\n",
      "ele_engry_us_201701             float64\n",
      "gas_engry_us_201702             float64\n",
      "ele_engry_us_201702             float64\n",
      "gas_engry_us_201703             float64\n",
      "ele_engry_us_201703             float64\n",
      "gas_engry_us_201704             float64\n",
      "ele_engry_us_201704             float64\n",
      "gas_engry_us_201705             float64\n",
      "ele_engry_us_201705             float64\n",
      "gas_engry_us_201706             float64\n",
      "ele_engry_us_201706             float64\n",
      "gas_engry_us_201707             float64\n",
      "ele_engry_us_201707             float64\n",
      "gas_engry_us_201708             float64\n",
      "ele_engry_us_201708             float64\n",
      "gas_engry_us_201709             float64\n",
      "ele_engry_us_201709             float64\n",
      "gas_engry_us_201710             float64\n",
      "ele_engry_us_201710             float64\n",
      "gas_engry_us_201711             float64\n",
      "ele_engry_us_201711             float64\n",
      "gas_engry_us_201712             float64\n",
      "ele_engry_us_201712             float64\n",
      "gas_engry_us_201801             float64\n",
      "ele_engry_us_201801             float64\n",
      "gas_engry_us_201802             float64\n",
      "ele_engry_us_201802             float64\n",
      "gas_engry_us_201803             float64\n",
      "ele_engry_us_201803             float64\n",
      "gas_engry_us_201804             float64\n",
      "ele_engry_us_201804             float64\n",
      "gas_engry_us_201805             float64\n",
      "ele_engry_us_201805             float64\n",
      "gas_engry_us_201806             float64\n",
      "ele_engry_us_201806             float64\n",
      "gas_engry_us_201807             float64\n",
      "ele_engry_us_201807             float64\n",
      "gas_engry_us_201808             float64\n",
      "ele_engry_us_201808             float64\n",
      "gas_engry_us_201809             float64\n",
      "ele_engry_us_201809             float64\n",
      "gas_engry_us_201810             float64\n",
      "ele_engry_us_201810             float64\n",
      "gas_engry_us_201811             float64\n",
      "ele_engry_us_201811             float64\n",
      "gas_engry_us_201812             float64\n",
      "ele_engry_us_201812             float64\n",
      "lw_13101010                     float64\n",
      "lw_13101110                     float64\n",
      "lw_13101210                     float64\n",
      "lw_13101211                     float64\n",
      "lw_13101310                     float64\n",
      "lw_13101410                     float64\n",
      "lw_13111010                     float64\n",
      "lw_13111110                     float64\n",
      "lw_13121010                     float64\n",
      "lw_13121011                     float64\n",
      "lw_13131010                     float64\n",
      "lw_13131110                     float64\n",
      "lw_13141010                     float64\n",
      "lw_13141011                     float64\n",
      "jmk                             object\n",
      "id                              int64\n",
      "rgnl_ar_nm                      object\n",
      "rgnl_ar_nm2                     object\n",
      "lnd_us_sttn_nm                  object\n",
      "rd_sd_nm                        object\n",
      "emd_nm                          object\n",
      "hm_cnt                          float64\n",
      "fr_sttn_dstnc                   int64\n",
      "bldng_ar_prc                    float64\n",
      "fr_wthr_fclt_dstnc              int64\n",
      "fr_mn_cnt                       float64\n",
      "mlt_us_yn                       object\n",
      "cctv_dstnc                      int64\n",
      "fr_wthr_fclt_in_100m            int64\n",
      "cctv_in_100m                    int64\n",
      "tbc_rtl_str_dstnc               int64\n",
      "sft_emrgnc_bll_dstnc            int64\n",
      "ahsm_dstnc                      int64\n",
      "no_tbc_zn_dstnc                 int64\n",
      "bldng_cnt_in_50m                int64\n",
      "trgt_crtr                       object\n",
      "fr_fghtng_fclt_spcl_css_5_yn    object\n",
      "fr_fghtng_fclt_spcl_css_6_yn    object\n",
      "us_yn                           object\n",
      "dngrs_thng_yn                   object\n",
      "slf_fr_brgd_yn                  object\n",
      "blk_dngrs_thng_mnfctr_yn        object\n",
      "cltrl_hrtg_yn                   object\n",
      "dtypes: datetime64[ns](1), float64(147), int64(12), object(20)\n",
      "memory usage: 81.3+ MB\n"
     ]
    }
   ],
   "source": [
    "train.info(True)"
   ]
  },
  {
   "cell_type": "code",
   "execution_count": 8,
   "metadata": {},
   "outputs": [
    {
     "data": {
      "text/html": [
       "<div>\n",
       "<style scoped>\n",
       "    .dataframe tbody tr th:only-of-type {\n",
       "        vertical-align: middle;\n",
       "    }\n",
       "\n",
       "    .dataframe tbody tr th {\n",
       "        vertical-align: top;\n",
       "    }\n",
       "\n",
       "    .dataframe thead th {\n",
       "        text-align: right;\n",
       "    }\n",
       "</style>\n",
       "<table border=\"1\" class=\"dataframe\">\n",
       "  <thead>\n",
       "    <tr style=\"text-align: right;\">\n",
       "      <th></th>\n",
       "      <th>bldng_cnt</th>\n",
       "      <th>bldng_ar</th>\n",
       "      <th>ttl_ar</th>\n",
       "      <th>lnd_ar</th>\n",
       "      <th>ttl_grnd_flr</th>\n",
       "      <th>ttl_dwn_flr</th>\n",
       "      <th>tmprtr</th>\n",
       "      <th>prcpttn</th>\n",
       "      <th>wnd_spd</th>\n",
       "      <th>wnd_drctn</th>\n",
       "      <th>...</th>\n",
       "      <th>fr_wthr_fclt_dstnc</th>\n",
       "      <th>fr_mn_cnt</th>\n",
       "      <th>cctv_dstnc</th>\n",
       "      <th>fr_wthr_fclt_in_100m</th>\n",
       "      <th>cctv_in_100m</th>\n",
       "      <th>tbc_rtl_str_dstnc</th>\n",
       "      <th>sft_emrgnc_bll_dstnc</th>\n",
       "      <th>ahsm_dstnc</th>\n",
       "      <th>no_tbc_zn_dstnc</th>\n",
       "      <th>bldng_cnt_in_50m</th>\n",
       "    </tr>\n",
       "  </thead>\n",
       "  <tbody>\n",
       "    <tr>\n",
       "      <th>count</th>\n",
       "      <td>59199.000000</td>\n",
       "      <td>59199.000000</td>\n",
       "      <td>5.919900e+04</td>\n",
       "      <td>5.919900e+04</td>\n",
       "      <td>48989.000000</td>\n",
       "      <td>48194.000000</td>\n",
       "      <td>59186.000000</td>\n",
       "      <td>5570.000000</td>\n",
       "      <td>59166.000000</td>\n",
       "      <td>58978.000000</td>\n",
       "      <td>...</td>\n",
       "      <td>59199.000000</td>\n",
       "      <td>59158.000000</td>\n",
       "      <td>59199.000000</td>\n",
       "      <td>59199.000000</td>\n",
       "      <td>59199.000000</td>\n",
       "      <td>59199.000000</td>\n",
       "      <td>59199.000000</td>\n",
       "      <td>59199.000000</td>\n",
       "      <td>59199.000000</td>\n",
       "      <td>59199.000000</td>\n",
       "    </tr>\n",
       "    <tr>\n",
       "      <th>mean</th>\n",
       "      <td>3.453927</td>\n",
       "      <td>633.562740</td>\n",
       "      <td>2.477958e+03</td>\n",
       "      <td>2.900026e+04</td>\n",
       "      <td>3.193145</td>\n",
       "      <td>0.132465</td>\n",
       "      <td>14.015632</td>\n",
       "      <td>1.722208</td>\n",
       "      <td>1.535399</td>\n",
       "      <td>159.750432</td>\n",
       "      <td>...</td>\n",
       "      <td>1910.026875</td>\n",
       "      <td>151.219311</td>\n",
       "      <td>760.094917</td>\n",
       "      <td>0.246119</td>\n",
       "      <td>0.415480</td>\n",
       "      <td>3253.293383</td>\n",
       "      <td>31396.045626</td>\n",
       "      <td>8974.286964</td>\n",
       "      <td>1146.474636</td>\n",
       "      <td>3.815200</td>\n",
       "    </tr>\n",
       "    <tr>\n",
       "      <th>std</th>\n",
       "      <td>7.220839</td>\n",
       "      <td>9211.774472</td>\n",
       "      <td>7.831936e+04</td>\n",
       "      <td>2.157306e+06</td>\n",
       "      <td>16.300922</td>\n",
       "      <td>1.001652</td>\n",
       "      <td>9.785721</td>\n",
       "      <td>3.989392</td>\n",
       "      <td>1.298130</td>\n",
       "      <td>125.751929</td>\n",
       "      <td>...</td>\n",
       "      <td>2638.501511</td>\n",
       "      <td>36.763184</td>\n",
       "      <td>1337.103386</td>\n",
       "      <td>0.608620</td>\n",
       "      <td>1.176513</td>\n",
       "      <td>3329.985798</td>\n",
       "      <td>24248.943785</td>\n",
       "      <td>11377.904356</td>\n",
       "      <td>1671.199571</td>\n",
       "      <td>8.410348</td>\n",
       "    </tr>\n",
       "    <tr>\n",
       "      <th>min</th>\n",
       "      <td>1.000000</td>\n",
       "      <td>0.000000</td>\n",
       "      <td>0.000000e+00</td>\n",
       "      <td>0.000000e+00</td>\n",
       "      <td>0.000000</td>\n",
       "      <td>0.000000</td>\n",
       "      <td>-14.100000</td>\n",
       "      <td>0.000000</td>\n",
       "      <td>0.000000</td>\n",
       "      <td>0.000000</td>\n",
       "      <td>...</td>\n",
       "      <td>0.000000</td>\n",
       "      <td>85.000000</td>\n",
       "      <td>0.000000</td>\n",
       "      <td>0.000000</td>\n",
       "      <td>0.000000</td>\n",
       "      <td>0.000000</td>\n",
       "      <td>5.000000</td>\n",
       "      <td>0.000000</td>\n",
       "      <td>0.000000</td>\n",
       "      <td>0.000000</td>\n",
       "    </tr>\n",
       "    <tr>\n",
       "      <th>25%</th>\n",
       "      <td>1.000000</td>\n",
       "      <td>46.280000</td>\n",
       "      <td>5.055000e+01</td>\n",
       "      <td>0.000000e+00</td>\n",
       "      <td>1.000000</td>\n",
       "      <td>0.000000</td>\n",
       "      <td>6.100000</td>\n",
       "      <td>0.000000</td>\n",
       "      <td>0.600000</td>\n",
       "      <td>20.000000</td>\n",
       "      <td>...</td>\n",
       "      <td>114.000000</td>\n",
       "      <td>112.000000</td>\n",
       "      <td>100.000000</td>\n",
       "      <td>0.000000</td>\n",
       "      <td>0.000000</td>\n",
       "      <td>527.000000</td>\n",
       "      <td>11229.000000</td>\n",
       "      <td>761.000000</td>\n",
       "      <td>115.000000</td>\n",
       "      <td>0.000000</td>\n",
       "    </tr>\n",
       "    <tr>\n",
       "      <th>50%</th>\n",
       "      <td>2.000000</td>\n",
       "      <td>87.730000</td>\n",
       "      <td>9.720000e+01</td>\n",
       "      <td>1.600000e+02</td>\n",
       "      <td>1.000000</td>\n",
       "      <td>0.000000</td>\n",
       "      <td>14.700000</td>\n",
       "      <td>0.400000</td>\n",
       "      <td>1.200000</td>\n",
       "      <td>160.000000</td>\n",
       "      <td>...</td>\n",
       "      <td>643.000000</td>\n",
       "      <td>161.000000</td>\n",
       "      <td>288.000000</td>\n",
       "      <td>0.000000</td>\n",
       "      <td>0.000000</td>\n",
       "      <td>2184.000000</td>\n",
       "      <td>27037.000000</td>\n",
       "      <td>3210.000000</td>\n",
       "      <td>422.000000</td>\n",
       "      <td>0.000000</td>\n",
       "    </tr>\n",
       "    <tr>\n",
       "      <th>75%</th>\n",
       "      <td>4.000000</td>\n",
       "      <td>155.100000</td>\n",
       "      <td>2.144150e+02</td>\n",
       "      <td>4.460000e+02</td>\n",
       "      <td>2.000000</td>\n",
       "      <td>0.000000</td>\n",
       "      <td>22.000000</td>\n",
       "      <td>1.500000</td>\n",
       "      <td>2.200000</td>\n",
       "      <td>270.000000</td>\n",
       "      <td>...</td>\n",
       "      <td>2494.000000</td>\n",
       "      <td>176.000000</td>\n",
       "      <td>889.000000</td>\n",
       "      <td>0.000000</td>\n",
       "      <td>0.000000</td>\n",
       "      <td>4958.000000</td>\n",
       "      <td>45713.000000</td>\n",
       "      <td>14239.500000</td>\n",
       "      <td>1486.500000</td>\n",
       "      <td>3.000000</td>\n",
       "    </tr>\n",
       "    <tr>\n",
       "      <th>max</th>\n",
       "      <td>705.000000</td>\n",
       "      <td>572897.955000</td>\n",
       "      <td>1.235184e+07</td>\n",
       "      <td>2.038984e+08</td>\n",
       "      <td>594.000000</td>\n",
       "      <td>60.000000</td>\n",
       "      <td>38.100000</td>\n",
       "      <td>93.000000</td>\n",
       "      <td>15.300000</td>\n",
       "      <td>360.000000</td>\n",
       "      <td>...</td>\n",
       "      <td>17716.000000</td>\n",
       "      <td>210.000000</td>\n",
       "      <td>12278.000000</td>\n",
       "      <td>10.000000</td>\n",
       "      <td>24.000000</td>\n",
       "      <td>23228.000000</td>\n",
       "      <td>103571.000000</td>\n",
       "      <td>56485.000000</td>\n",
       "      <td>16164.000000</td>\n",
       "      <td>84.000000</td>\n",
       "    </tr>\n",
       "  </tbody>\n",
       "</table>\n",
       "<p>8 rows × 159 columns</p>\n",
       "</div>"
      ],
      "text/plain": [
       "          bldng_cnt       bldng_ar        ttl_ar        lnd_ar  ttl_grnd_flr  \\\n",
       "count  59199.000000   59199.000000  5.919900e+04  5.919900e+04  48989.000000   \n",
       "mean       3.453927     633.562740  2.477958e+03  2.900026e+04      3.193145   \n",
       "std        7.220839    9211.774472  7.831936e+04  2.157306e+06     16.300922   \n",
       "min        1.000000       0.000000  0.000000e+00  0.000000e+00      0.000000   \n",
       "25%        1.000000      46.280000  5.055000e+01  0.000000e+00      1.000000   \n",
       "50%        2.000000      87.730000  9.720000e+01  1.600000e+02      1.000000   \n",
       "75%        4.000000     155.100000  2.144150e+02  4.460000e+02      2.000000   \n",
       "max      705.000000  572897.955000  1.235184e+07  2.038984e+08    594.000000   \n",
       "\n",
       "        ttl_dwn_flr        tmprtr      prcpttn       wnd_spd     wnd_drctn  \\\n",
       "count  48194.000000  59186.000000  5570.000000  59166.000000  58978.000000   \n",
       "mean       0.132465     14.015632     1.722208      1.535399    159.750432   \n",
       "std        1.001652      9.785721     3.989392      1.298130    125.751929   \n",
       "min        0.000000    -14.100000     0.000000      0.000000      0.000000   \n",
       "25%        0.000000      6.100000     0.000000      0.600000     20.000000   \n",
       "50%        0.000000     14.700000     0.400000      1.200000    160.000000   \n",
       "75%        0.000000     22.000000     1.500000      2.200000    270.000000   \n",
       "max       60.000000     38.100000    93.000000     15.300000    360.000000   \n",
       "\n",
       "       ...  fr_wthr_fclt_dstnc     fr_mn_cnt    cctv_dstnc  \\\n",
       "count  ...        59199.000000  59158.000000  59199.000000   \n",
       "mean   ...         1910.026875    151.219311    760.094917   \n",
       "std    ...         2638.501511     36.763184   1337.103386   \n",
       "min    ...            0.000000     85.000000      0.000000   \n",
       "25%    ...          114.000000    112.000000    100.000000   \n",
       "50%    ...          643.000000    161.000000    288.000000   \n",
       "75%    ...         2494.000000    176.000000    889.000000   \n",
       "max    ...        17716.000000    210.000000  12278.000000   \n",
       "\n",
       "       fr_wthr_fclt_in_100m  cctv_in_100m  tbc_rtl_str_dstnc  \\\n",
       "count          59199.000000  59199.000000       59199.000000   \n",
       "mean               0.246119      0.415480        3253.293383   \n",
       "std                0.608620      1.176513        3329.985798   \n",
       "min                0.000000      0.000000           0.000000   \n",
       "25%                0.000000      0.000000         527.000000   \n",
       "50%                0.000000      0.000000        2184.000000   \n",
       "75%                0.000000      0.000000        4958.000000   \n",
       "max               10.000000     24.000000       23228.000000   \n",
       "\n",
       "       sft_emrgnc_bll_dstnc    ahsm_dstnc  no_tbc_zn_dstnc  bldng_cnt_in_50m  \n",
       "count          59199.000000  59199.000000     59199.000000      59199.000000  \n",
       "mean           31396.045626   8974.286964      1146.474636          3.815200  \n",
       "std            24248.943785  11377.904356      1671.199571          8.410348  \n",
       "min                5.000000      0.000000         0.000000          0.000000  \n",
       "25%            11229.000000    761.000000       115.000000          0.000000  \n",
       "50%            27037.000000   3210.000000       422.000000          0.000000  \n",
       "75%            45713.000000  14239.500000      1486.500000          3.000000  \n",
       "max           103571.000000  56485.000000     16164.000000         84.000000  \n",
       "\n",
       "[8 rows x 159 columns]"
      ]
     },
     "execution_count": 8,
     "metadata": {},
     "output_type": "execute_result"
    }
   ],
   "source": [
    "train.describe()"
   ]
  },
  {
   "cell_type": "markdown",
   "metadata": {},
   "source": [
    "#### NULL Data Check"
   ]
  },
  {
   "cell_type": "code",
   "execution_count": 9,
   "metadata": {},
   "outputs": [
    {
     "name": "stdout",
     "output_type": "stream",
     "text": [
      "column:   dt_of_fr\t Percent of NaN value: 0.00%\n",
      "column:      fr_yn\t Percent of NaN value: 0.00%\n",
      "column:   bldng_us\t Percent of NaN value: 46.75%\n",
      "column: bldng_archtctr\t Percent of NaN value: 46.73%\n",
      "column:  bldng_cnt\t Percent of NaN value: 0.00%\n",
      "column:   bldng_ar\t Percent of NaN value: 0.00%\n",
      "column:     ttl_ar\t Percent of NaN value: 0.00%\n",
      "column:     lnd_ar\t Percent of NaN value: 0.00%\n",
      "column: dt_of_athrztn\t Percent of NaN value: 46.59%\n",
      "column: ttl_grnd_flr\t Percent of NaN value: 17.25%\n",
      "column: ttl_dwn_flr\t Percent of NaN value: 18.59%\n",
      "column: bldng_us_clssfctn\t Percent of NaN value: 49.57%\n",
      "column:     tmprtr\t Percent of NaN value: 0.02%\n",
      "column:    prcpttn\t Percent of NaN value: 90.59%\n",
      "column:    wnd_spd\t Percent of NaN value: 0.06%\n",
      "column:  wnd_drctn\t Percent of NaN value: 0.37%\n",
      "column:       hmdt\t Percent of NaN value: 0.04%\n",
      "column: gas_engry_us_201401\t Percent of NaN value: 46.59%\n",
      "column: ele_engry_us_201401\t Percent of NaN value: 46.59%\n",
      "column: gas_engry_us_201402\t Percent of NaN value: 46.59%\n",
      "column: ele_engry_us_201402\t Percent of NaN value: 46.59%\n",
      "column: gas_engry_us_201403\t Percent of NaN value: 46.59%\n",
      "column: ele_engry_us_201403\t Percent of NaN value: 46.59%\n",
      "column: gas_engry_us_201404\t Percent of NaN value: 46.59%\n",
      "column: ele_engry_us_201404\t Percent of NaN value: 46.59%\n",
      "column: gas_engry_us_201405\t Percent of NaN value: 46.59%\n",
      "column: ele_engry_us_201405\t Percent of NaN value: 46.59%\n",
      "column: gas_engry_us_201406\t Percent of NaN value: 46.59%\n",
      "column: ele_engry_us_201406\t Percent of NaN value: 46.59%\n",
      "column: gas_engry_us_201407\t Percent of NaN value: 46.59%\n",
      "column: ele_engry_us_201407\t Percent of NaN value: 46.59%\n",
      "column: gas_engry_us_201408\t Percent of NaN value: 46.59%\n",
      "column: ele_engry_us_201408\t Percent of NaN value: 46.59%\n",
      "column: gas_engry_us_201409\t Percent of NaN value: 46.59%\n",
      "column: ele_engry_us_201409\t Percent of NaN value: 46.59%\n",
      "column: gas_engry_us_201410\t Percent of NaN value: 46.59%\n",
      "column: ele_engry_us_201410\t Percent of NaN value: 46.59%\n",
      "column: gas_engry_us_201411\t Percent of NaN value: 46.59%\n",
      "column: ele_engry_us_201411\t Percent of NaN value: 46.59%\n",
      "column: gas_engry_us_201412\t Percent of NaN value: 46.59%\n",
      "column: ele_engry_us_201412\t Percent of NaN value: 46.59%\n",
      "column: gas_engry_us_201501\t Percent of NaN value: 46.59%\n",
      "column: ele_engry_us_201501\t Percent of NaN value: 46.59%\n",
      "column: gas_engry_us_201502\t Percent of NaN value: 46.59%\n",
      "column: ele_engry_us_201502\t Percent of NaN value: 46.59%\n",
      "column: gas_engry_us_201503\t Percent of NaN value: 46.59%\n",
      "column: ele_engry_us_201503\t Percent of NaN value: 46.59%\n",
      "column: gas_engry_us_201504\t Percent of NaN value: 46.59%\n",
      "column: ele_engry_us_201504\t Percent of NaN value: 46.59%\n",
      "column: gas_engry_us_201505\t Percent of NaN value: 46.59%\n",
      "column: ele_engry_us_201505\t Percent of NaN value: 46.59%\n",
      "column: gas_engry_us_201506\t Percent of NaN value: 46.59%\n",
      "column: ele_engry_us_201506\t Percent of NaN value: 46.59%\n",
      "column: gas_engry_us_201507\t Percent of NaN value: 46.59%\n",
      "column: ele_engry_us_201507\t Percent of NaN value: 46.59%\n",
      "column: gas_engry_us_201508\t Percent of NaN value: 46.59%\n",
      "column: ele_engry_us_201508\t Percent of NaN value: 46.59%\n",
      "column: gas_engry_us_201509\t Percent of NaN value: 46.59%\n",
      "column: ele_engry_us_201509\t Percent of NaN value: 46.59%\n",
      "column: gas_engry_us_201510\t Percent of NaN value: 46.59%\n",
      "column: ele_engry_us_201510\t Percent of NaN value: 46.59%\n",
      "column: gas_engry_us_201511\t Percent of NaN value: 46.59%\n",
      "column: ele_engry_us_201511\t Percent of NaN value: 46.59%\n",
      "column: gas_engry_us_201512\t Percent of NaN value: 46.59%\n",
      "column: ele_engry_us_201512\t Percent of NaN value: 46.59%\n",
      "column: gas_engry_us_201601\t Percent of NaN value: 46.59%\n",
      "column: ele_engry_us_201601\t Percent of NaN value: 46.59%\n",
      "column: gas_engry_us_201602\t Percent of NaN value: 46.59%\n",
      "column: ele_engry_us_201602\t Percent of NaN value: 46.59%\n",
      "column: gas_engry_us_201603\t Percent of NaN value: 46.59%\n",
      "column: ele_engry_us_201603\t Percent of NaN value: 46.59%\n",
      "column: gas_engry_us_201604\t Percent of NaN value: 46.59%\n",
      "column: ele_engry_us_201604\t Percent of NaN value: 46.59%\n",
      "column: gas_engry_us_201605\t Percent of NaN value: 46.59%\n",
      "column: ele_engry_us_201605\t Percent of NaN value: 46.59%\n",
      "column: gas_engry_us_201606\t Percent of NaN value: 46.59%\n",
      "column: ele_engry_us_201606\t Percent of NaN value: 46.59%\n",
      "column: gas_engry_us_201607\t Percent of NaN value: 46.59%\n",
      "column: ele_engry_us_201607\t Percent of NaN value: 46.59%\n",
      "column: gas_engry_us_201608\t Percent of NaN value: 46.59%\n",
      "column: ele_engry_us_201608\t Percent of NaN value: 46.59%\n",
      "column: gas_engry_us_201609\t Percent of NaN value: 46.59%\n",
      "column: ele_engry_us_201609\t Percent of NaN value: 46.59%\n",
      "column: gas_engry_us_201610\t Percent of NaN value: 46.59%\n",
      "column: ele_engry_us_201610\t Percent of NaN value: 46.59%\n",
      "column: gas_engry_us_201611\t Percent of NaN value: 46.59%\n",
      "column: ele_engry_us_201611\t Percent of NaN value: 46.59%\n",
      "column: gas_engry_us_201612\t Percent of NaN value: 46.59%\n",
      "column: ele_engry_us_201612\t Percent of NaN value: 46.59%\n",
      "column: gas_engry_us_201701\t Percent of NaN value: 46.59%\n",
      "column: ele_engry_us_201701\t Percent of NaN value: 46.59%\n",
      "column: gas_engry_us_201702\t Percent of NaN value: 46.59%\n",
      "column: ele_engry_us_201702\t Percent of NaN value: 46.59%\n",
      "column: gas_engry_us_201703\t Percent of NaN value: 46.59%\n",
      "column: ele_engry_us_201703\t Percent of NaN value: 46.59%\n",
      "column: gas_engry_us_201704\t Percent of NaN value: 46.59%\n",
      "column: ele_engry_us_201704\t Percent of NaN value: 46.59%\n",
      "column: gas_engry_us_201705\t Percent of NaN value: 46.59%\n",
      "column: ele_engry_us_201705\t Percent of NaN value: 46.59%\n",
      "column: gas_engry_us_201706\t Percent of NaN value: 46.59%\n",
      "column: ele_engry_us_201706\t Percent of NaN value: 46.59%\n",
      "column: gas_engry_us_201707\t Percent of NaN value: 46.59%\n",
      "column: ele_engry_us_201707\t Percent of NaN value: 46.59%\n",
      "column: gas_engry_us_201708\t Percent of NaN value: 46.59%\n",
      "column: ele_engry_us_201708\t Percent of NaN value: 46.59%\n",
      "column: gas_engry_us_201709\t Percent of NaN value: 46.59%\n",
      "column: ele_engry_us_201709\t Percent of NaN value: 46.59%\n",
      "column: gas_engry_us_201710\t Percent of NaN value: 46.59%\n",
      "column: ele_engry_us_201710\t Percent of NaN value: 46.59%\n",
      "column: gas_engry_us_201711\t Percent of NaN value: 46.59%\n",
      "column: ele_engry_us_201711\t Percent of NaN value: 46.59%\n",
      "column: gas_engry_us_201712\t Percent of NaN value: 46.59%\n",
      "column: ele_engry_us_201712\t Percent of NaN value: 46.59%\n",
      "column: gas_engry_us_201801\t Percent of NaN value: 46.59%\n",
      "column: ele_engry_us_201801\t Percent of NaN value: 46.59%\n",
      "column: gas_engry_us_201802\t Percent of NaN value: 46.59%\n",
      "column: ele_engry_us_201802\t Percent of NaN value: 46.59%\n",
      "column: gas_engry_us_201803\t Percent of NaN value: 46.59%\n",
      "column: ele_engry_us_201803\t Percent of NaN value: 46.59%\n",
      "column: gas_engry_us_201804\t Percent of NaN value: 46.59%\n",
      "column: ele_engry_us_201804\t Percent of NaN value: 46.59%\n",
      "column: gas_engry_us_201805\t Percent of NaN value: 46.59%\n",
      "column: ele_engry_us_201805\t Percent of NaN value: 46.59%\n",
      "column: gas_engry_us_201806\t Percent of NaN value: 46.59%\n",
      "column: ele_engry_us_201806\t Percent of NaN value: 46.59%\n",
      "column: gas_engry_us_201807\t Percent of NaN value: 46.59%\n",
      "column: ele_engry_us_201807\t Percent of NaN value: 46.59%\n",
      "column: gas_engry_us_201808\t Percent of NaN value: 46.59%\n",
      "column: ele_engry_us_201808\t Percent of NaN value: 46.59%\n",
      "column: gas_engry_us_201809\t Percent of NaN value: 46.59%\n",
      "column: ele_engry_us_201809\t Percent of NaN value: 46.59%\n",
      "column: gas_engry_us_201810\t Percent of NaN value: 46.59%\n",
      "column: ele_engry_us_201810\t Percent of NaN value: 46.59%\n",
      "column: gas_engry_us_201811\t Percent of NaN value: 46.59%\n",
      "column: ele_engry_us_201811\t Percent of NaN value: 46.59%\n",
      "column: gas_engry_us_201812\t Percent of NaN value: 46.59%\n",
      "column: ele_engry_us_201812\t Percent of NaN value: 46.59%\n",
      "column: lw_13101010\t Percent of NaN value: 99.49%\n",
      "column: lw_13101110\t Percent of NaN value: 99.51%\n",
      "column: lw_13101210\t Percent of NaN value: 99.50%\n",
      "column: lw_13101211\t Percent of NaN value: 99.50%\n",
      "column: lw_13101310\t Percent of NaN value: 99.51%\n",
      "column: lw_13101410\t Percent of NaN value: 99.52%\n",
      "column: lw_13111010\t Percent of NaN value: 99.49%\n",
      "column: lw_13111110\t Percent of NaN value: 99.53%\n",
      "column: lw_13121010\t Percent of NaN value: 99.54%\n",
      "column: lw_13121011\t Percent of NaN value: 99.54%\n",
      "column: lw_13131010\t Percent of NaN value: 99.50%\n",
      "column: lw_13131110\t Percent of NaN value: 99.50%\n",
      "column: lw_13141010\t Percent of NaN value: 99.51%\n",
      "column: lw_13141011\t Percent of NaN value: 99.51%\n",
      "column:        jmk\t Percent of NaN value: 0.00%\n",
      "column:         id\t Percent of NaN value: 0.00%\n",
      "column: rgnl_ar_nm\t Percent of NaN value: 2.52%\n",
      "column: rgnl_ar_nm2\t Percent of NaN value: 2.52%\n",
      "column: lnd_us_sttn_nm\t Percent of NaN value: 3.00%\n",
      "column:   rd_sd_nm\t Percent of NaN value: 2.52%\n",
      "column:     emd_nm\t Percent of NaN value: 0.01%\n",
      "column:     hm_cnt\t Percent of NaN value: 1.18%\n",
      "column: fr_sttn_dstnc\t Percent of NaN value: 0.00%\n",
      "column: bldng_ar_prc\t Percent of NaN value: 36.99%\n",
      "column: fr_wthr_fclt_dstnc\t Percent of NaN value: 0.00%\n",
      "column:  fr_mn_cnt\t Percent of NaN value: 0.07%\n",
      "column:  mlt_us_yn\t Percent of NaN value: 0.00%\n",
      "column: cctv_dstnc\t Percent of NaN value: 0.00%\n",
      "column: fr_wthr_fclt_in_100m\t Percent of NaN value: 0.00%\n",
      "column: cctv_in_100m\t Percent of NaN value: 0.00%\n",
      "column: tbc_rtl_str_dstnc\t Percent of NaN value: 0.00%\n",
      "column: sft_emrgnc_bll_dstnc\t Percent of NaN value: 0.00%\n",
      "column: ahsm_dstnc\t Percent of NaN value: 0.00%\n",
      "column: no_tbc_zn_dstnc\t Percent of NaN value: 0.00%\n",
      "column: bldng_cnt_in_50m\t Percent of NaN value: 0.00%\n",
      "column:  trgt_crtr\t Percent of NaN value: 86.19%\n",
      "column: fr_fghtng_fclt_spcl_css_5_yn\t Percent of NaN value: 85.75%\n",
      "column: fr_fghtng_fclt_spcl_css_6_yn\t Percent of NaN value: 85.75%\n",
      "column:      us_yn\t Percent of NaN value: 83.53%\n",
      "column: dngrs_thng_yn\t Percent of NaN value: 83.53%\n",
      "column: slf_fr_brgd_yn\t Percent of NaN value: 83.53%\n",
      "column: blk_dngrs_thng_mnfctr_yn\t Percent of NaN value: 83.53%\n",
      "column: cltrl_hrtg_yn\t Percent of NaN value: 83.53%\n"
     ]
    }
   ],
   "source": [
    "# train data의 NULL Data Check\n",
    "for col in train.columns:\n",
    "    msg = 'column: {:>10}\\t Percent of NaN value: {:.2f}%'.format(col, 100 * (train[col].isnull().sum() / train[col].shape[0]))\n",
    "    print(msg)"
   ]
  },
  {
   "cell_type": "code",
   "execution_count": 10,
   "metadata": {
    "scrolled": false
   },
   "outputs": [
    {
     "name": "stdout",
     "output_type": "stream",
     "text": [
      "column:   dt_of_fr\t Percent of NaN value: 0.00%\n",
      "column:   bldng_us\t Percent of NaN value: 15.86%\n",
      "column: bldng_archtctr\t Percent of NaN value: 15.56%\n",
      "column:  bldng_cnt\t Percent of NaN value: 0.00%\n",
      "column:   bldng_ar\t Percent of NaN value: 0.00%\n",
      "column:     ttl_ar\t Percent of NaN value: 0.00%\n",
      "column:     lnd_ar\t Percent of NaN value: 0.00%\n",
      "column: dt_of_athrztn\t Percent of NaN value: 15.56%\n",
      "column: ttl_grnd_flr\t Percent of NaN value: 11.60%\n",
      "column: ttl_dwn_flr\t Percent of NaN value: 13.49%\n",
      "column: bldng_us_clssfctn\t Percent of NaN value: 23.23%\n",
      "column:     tmprtr\t Percent of NaN value: 0.03%\n",
      "column:    prcpttn\t Percent of NaN value: 92.66%\n",
      "column:    wnd_spd\t Percent of NaN value: 0.03%\n",
      "column:  wnd_drctn\t Percent of NaN value: 0.14%\n",
      "column:       hmdt\t Percent of NaN value: 0.07%\n",
      "column: gas_engry_us_201401\t Percent of NaN value: 15.56%\n",
      "column: ele_engry_us_201401\t Percent of NaN value: 15.56%\n",
      "column: gas_engry_us_201402\t Percent of NaN value: 15.56%\n",
      "column: ele_engry_us_201402\t Percent of NaN value: 15.56%\n",
      "column: gas_engry_us_201403\t Percent of NaN value: 15.56%\n",
      "column: ele_engry_us_201403\t Percent of NaN value: 15.56%\n",
      "column: gas_engry_us_201404\t Percent of NaN value: 15.56%\n",
      "column: ele_engry_us_201404\t Percent of NaN value: 15.56%\n",
      "column: gas_engry_us_201405\t Percent of NaN value: 15.56%\n",
      "column: ele_engry_us_201405\t Percent of NaN value: 15.56%\n",
      "column: gas_engry_us_201406\t Percent of NaN value: 15.56%\n",
      "column: ele_engry_us_201406\t Percent of NaN value: 15.56%\n",
      "column: gas_engry_us_201407\t Percent of NaN value: 15.56%\n",
      "column: ele_engry_us_201407\t Percent of NaN value: 15.56%\n",
      "column: gas_engry_us_201408\t Percent of NaN value: 15.56%\n",
      "column: ele_engry_us_201408\t Percent of NaN value: 15.56%\n",
      "column: gas_engry_us_201409\t Percent of NaN value: 15.56%\n",
      "column: ele_engry_us_201409\t Percent of NaN value: 15.56%\n",
      "column: gas_engry_us_201410\t Percent of NaN value: 15.56%\n",
      "column: ele_engry_us_201410\t Percent of NaN value: 15.56%\n",
      "column: gas_engry_us_201411\t Percent of NaN value: 15.56%\n",
      "column: ele_engry_us_201411\t Percent of NaN value: 15.56%\n",
      "column: gas_engry_us_201412\t Percent of NaN value: 15.56%\n",
      "column: ele_engry_us_201412\t Percent of NaN value: 15.56%\n",
      "column: gas_engry_us_201501\t Percent of NaN value: 15.56%\n",
      "column: ele_engry_us_201501\t Percent of NaN value: 15.56%\n",
      "column: gas_engry_us_201502\t Percent of NaN value: 15.56%\n",
      "column: ele_engry_us_201502\t Percent of NaN value: 15.56%\n",
      "column: gas_engry_us_201503\t Percent of NaN value: 15.56%\n",
      "column: ele_engry_us_201503\t Percent of NaN value: 15.56%\n",
      "column: gas_engry_us_201504\t Percent of NaN value: 15.56%\n",
      "column: ele_engry_us_201504\t Percent of NaN value: 15.56%\n",
      "column: gas_engry_us_201505\t Percent of NaN value: 15.56%\n",
      "column: ele_engry_us_201505\t Percent of NaN value: 15.56%\n",
      "column: gas_engry_us_201506\t Percent of NaN value: 15.56%\n",
      "column: ele_engry_us_201506\t Percent of NaN value: 15.56%\n",
      "column: gas_engry_us_201507\t Percent of NaN value: 15.56%\n",
      "column: ele_engry_us_201507\t Percent of NaN value: 15.56%\n",
      "column: gas_engry_us_201508\t Percent of NaN value: 15.56%\n",
      "column: ele_engry_us_201508\t Percent of NaN value: 15.56%\n",
      "column: gas_engry_us_201509\t Percent of NaN value: 15.56%\n",
      "column: ele_engry_us_201509\t Percent of NaN value: 15.56%\n",
      "column: gas_engry_us_201510\t Percent of NaN value: 15.56%\n",
      "column: ele_engry_us_201510\t Percent of NaN value: 15.56%\n",
      "column: gas_engry_us_201511\t Percent of NaN value: 15.56%\n",
      "column: ele_engry_us_201511\t Percent of NaN value: 15.56%\n",
      "column: gas_engry_us_201512\t Percent of NaN value: 15.56%\n",
      "column: ele_engry_us_201512\t Percent of NaN value: 15.56%\n",
      "column: gas_engry_us_201601\t Percent of NaN value: 15.56%\n",
      "column: ele_engry_us_201601\t Percent of NaN value: 15.56%\n",
      "column: gas_engry_us_201602\t Percent of NaN value: 15.56%\n",
      "column: ele_engry_us_201602\t Percent of NaN value: 15.56%\n",
      "column: gas_engry_us_201603\t Percent of NaN value: 15.56%\n",
      "column: ele_engry_us_201603\t Percent of NaN value: 15.56%\n",
      "column: gas_engry_us_201604\t Percent of NaN value: 15.56%\n",
      "column: ele_engry_us_201604\t Percent of NaN value: 15.56%\n",
      "column: gas_engry_us_201605\t Percent of NaN value: 15.56%\n",
      "column: ele_engry_us_201605\t Percent of NaN value: 15.56%\n",
      "column: gas_engry_us_201606\t Percent of NaN value: 15.56%\n",
      "column: ele_engry_us_201606\t Percent of NaN value: 15.56%\n",
      "column: gas_engry_us_201607\t Percent of NaN value: 15.56%\n",
      "column: ele_engry_us_201607\t Percent of NaN value: 15.56%\n",
      "column: gas_engry_us_201608\t Percent of NaN value: 15.56%\n",
      "column: ele_engry_us_201608\t Percent of NaN value: 15.56%\n",
      "column: gas_engry_us_201609\t Percent of NaN value: 15.56%\n",
      "column: ele_engry_us_201609\t Percent of NaN value: 15.56%\n",
      "column: gas_engry_us_201610\t Percent of NaN value: 15.56%\n",
      "column: ele_engry_us_201610\t Percent of NaN value: 15.56%\n",
      "column: gas_engry_us_201611\t Percent of NaN value: 15.56%\n",
      "column: ele_engry_us_201611\t Percent of NaN value: 15.56%\n",
      "column: gas_engry_us_201612\t Percent of NaN value: 15.56%\n",
      "column: ele_engry_us_201612\t Percent of NaN value: 15.56%\n",
      "column: gas_engry_us_201701\t Percent of NaN value: 15.56%\n",
      "column: ele_engry_us_201701\t Percent of NaN value: 15.56%\n",
      "column: gas_engry_us_201702\t Percent of NaN value: 15.56%\n",
      "column: ele_engry_us_201702\t Percent of NaN value: 15.56%\n",
      "column: gas_engry_us_201703\t Percent of NaN value: 15.56%\n",
      "column: ele_engry_us_201703\t Percent of NaN value: 15.56%\n",
      "column: gas_engry_us_201704\t Percent of NaN value: 15.56%\n",
      "column: ele_engry_us_201704\t Percent of NaN value: 15.56%\n",
      "column: gas_engry_us_201705\t Percent of NaN value: 15.56%\n",
      "column: ele_engry_us_201705\t Percent of NaN value: 15.56%\n",
      "column: gas_engry_us_201706\t Percent of NaN value: 15.56%\n",
      "column: ele_engry_us_201706\t Percent of NaN value: 15.56%\n",
      "column: gas_engry_us_201707\t Percent of NaN value: 15.56%\n",
      "column: ele_engry_us_201707\t Percent of NaN value: 15.56%\n",
      "column: gas_engry_us_201708\t Percent of NaN value: 15.56%\n",
      "column: ele_engry_us_201708\t Percent of NaN value: 15.56%\n",
      "column: gas_engry_us_201709\t Percent of NaN value: 15.56%\n",
      "column: ele_engry_us_201709\t Percent of NaN value: 15.56%\n",
      "column: gas_engry_us_201710\t Percent of NaN value: 15.56%\n",
      "column: ele_engry_us_201710\t Percent of NaN value: 15.56%\n",
      "column: gas_engry_us_201711\t Percent of NaN value: 15.56%\n",
      "column: ele_engry_us_201711\t Percent of NaN value: 15.56%\n",
      "column: gas_engry_us_201712\t Percent of NaN value: 15.56%\n",
      "column: ele_engry_us_201712\t Percent of NaN value: 15.56%\n",
      "column: gas_engry_us_201801\t Percent of NaN value: 15.56%\n",
      "column: ele_engry_us_201801\t Percent of NaN value: 15.56%\n",
      "column: gas_engry_us_201802\t Percent of NaN value: 15.56%\n",
      "column: ele_engry_us_201802\t Percent of NaN value: 15.56%\n",
      "column: gas_engry_us_201803\t Percent of NaN value: 15.56%\n",
      "column: ele_engry_us_201803\t Percent of NaN value: 15.56%\n",
      "column: gas_engry_us_201804\t Percent of NaN value: 15.56%\n",
      "column: ele_engry_us_201804\t Percent of NaN value: 15.56%\n",
      "column: gas_engry_us_201805\t Percent of NaN value: 15.56%\n",
      "column: ele_engry_us_201805\t Percent of NaN value: 15.56%\n",
      "column: gas_engry_us_201806\t Percent of NaN value: 15.56%\n",
      "column: ele_engry_us_201806\t Percent of NaN value: 15.56%\n",
      "column: gas_engry_us_201807\t Percent of NaN value: 15.56%\n",
      "column: ele_engry_us_201807\t Percent of NaN value: 15.56%\n",
      "column: gas_engry_us_201808\t Percent of NaN value: 15.56%\n",
      "column: ele_engry_us_201808\t Percent of NaN value: 15.56%\n",
      "column: gas_engry_us_201809\t Percent of NaN value: 15.56%\n",
      "column: ele_engry_us_201809\t Percent of NaN value: 15.56%\n",
      "column: gas_engry_us_201810\t Percent of NaN value: 15.56%\n",
      "column: ele_engry_us_201810\t Percent of NaN value: 15.56%\n",
      "column: gas_engry_us_201811\t Percent of NaN value: 15.56%\n",
      "column: ele_engry_us_201811\t Percent of NaN value: 15.56%\n",
      "column: gas_engry_us_201812\t Percent of NaN value: 15.56%\n",
      "column: ele_engry_us_201812\t Percent of NaN value: 15.56%\n",
      "column: lw_13101010\t Percent of NaN value: 98.65%\n",
      "column: lw_13101110\t Percent of NaN value: 98.65%\n",
      "column: lw_13101210\t Percent of NaN value: 98.65%\n",
      "column: lw_13101211\t Percent of NaN value: 98.65%\n",
      "column: lw_13101310\t Percent of NaN value: 98.65%\n",
      "column: lw_13101410\t Percent of NaN value: 98.65%\n",
      "column: lw_13111010\t Percent of NaN value: 98.65%\n",
      "column: lw_13111110\t Percent of NaN value: 98.65%\n",
      "column: lw_13121010\t Percent of NaN value: 98.65%\n",
      "column: lw_13121011\t Percent of NaN value: 98.65%\n",
      "column: lw_13131010\t Percent of NaN value: 98.65%\n",
      "column: lw_13131110\t Percent of NaN value: 98.65%\n",
      "column: lw_13141010\t Percent of NaN value: 98.65%\n",
      "column: lw_13141011\t Percent of NaN value: 98.65%\n",
      "column:        jmk\t Percent of NaN value: 0.00%\n",
      "column:         id\t Percent of NaN value: 0.00%\n",
      "column: rgnl_ar_nm\t Percent of NaN value: 1.39%\n",
      "column: rgnl_ar_nm2\t Percent of NaN value: 1.39%\n",
      "column: lnd_us_sttn_nm\t Percent of NaN value: 2.47%\n",
      "column:   rd_sd_nm\t Percent of NaN value: 1.39%\n",
      "column:     emd_nm\t Percent of NaN value: 0.00%\n",
      "column:     hm_cnt\t Percent of NaN value: 0.00%\n",
      "column: fr_sttn_dstnc\t Percent of NaN value: 0.00%\n",
      "column: bldng_ar_prc\t Percent of NaN value: 45.45%\n",
      "column: fr_wthr_fclt_dstnc\t Percent of NaN value: 0.00%\n",
      "column:  fr_mn_cnt\t Percent of NaN value: 0.00%\n",
      "column:  mlt_us_yn\t Percent of NaN value: 0.00%\n",
      "column: cctv_dstnc\t Percent of NaN value: 0.00%\n",
      "column: fr_wthr_fclt_in_100m\t Percent of NaN value: 0.00%\n",
      "column: cctv_in_100m\t Percent of NaN value: 0.00%\n",
      "column: tbc_rtl_str_dstnc\t Percent of NaN value: 0.00%\n",
      "column: sft_emrgnc_bll_dstnc\t Percent of NaN value: 0.00%\n",
      "column: ahsm_dstnc\t Percent of NaN value: 0.00%\n",
      "column: no_tbc_zn_dstnc\t Percent of NaN value: 0.00%\n",
      "column: bldng_cnt_in_50m\t Percent of NaN value: 0.00%\n",
      "column:  trgt_crtr\t Percent of NaN value: 92.12%\n",
      "column: fr_fghtng_fclt_spcl_css_5_yn\t Percent of NaN value: 81.16%\n",
      "column: fr_fghtng_fclt_spcl_css_6_yn\t Percent of NaN value: 81.16%\n",
      "column:      us_yn\t Percent of NaN value: 78.39%\n",
      "column: dngrs_thng_yn\t Percent of NaN value: 78.39%\n",
      "column: slf_fr_brgd_yn\t Percent of NaN value: 78.39%\n",
      "column: blk_dngrs_thng_mnfctr_yn\t Percent of NaN value: 78.39%\n",
      "column: cltrl_hrtg_yn\t Percent of NaN value: 78.39%\n",
      "column:      fr_yn\t Percent of NaN value: 100.00%\n"
     ]
    }
   ],
   "source": [
    "# test data의 NULL Data Check\n",
    "for col in test.columns:\n",
    "    msg = 'column: {:>10}\\t Percent of NaN value: {:.2f}%'.format(col, 100 * (test[col].isnull().sum() / test[col].shape[0]))\n",
    "    print(msg)"
   ]
  },
  {
   "cell_type": "markdown",
   "metadata": {},
   "source": [
    "결측치의 비율이 심각한 column들이 많으나 일단 첫 번째 모델에는 모든 변수를 투입하겠다."
   ]
  },
  {
   "cell_type": "markdown",
   "metadata": {},
   "source": [
    "#### Target Lable Check"
   ]
  },
  {
   "cell_type": "code",
   "execution_count": 11,
   "metadata": {},
   "outputs": [
    {
     "data": {
      "image/png": "[encoded data removed]",
      "text/plain": [
       "<Figure size 1296x576 with 2 Axes>"
      ]
     },
     "metadata": {
      "needs_background": "light"
     },
     "output_type": "display_data"
    }
   ],
   "source": [
    "# train Dataset 에서 화재 발생 비율\n",
    "f, ax = plt.subplots(1, 2, figsize=(18, 8))\n",
    "train['fr_yn'].value_counts().plot.pie(explode=[0, 0.1], autopct='%1.1f%%', ax=ax[0], shadow=True)\n",
    "ax[0].set_title('Pie plot - fr_yn')\n",
    "ax[0].set_ylabel('')\n",
    "sns.countplot('fr_yn', data=train, ax=ax[1])\n",
    "ax[1].set_title('Count plot - fr_yn')\n",
    "\n",
    "plt.show()"
   ]
  },
  {
   "cell_type": "code",
   "execution_count": 12,
   "metadata": {},
   "outputs": [
    {
     "data": {
      "image/png": "[encoded data removed]",
      "text/plain": [
       "<Figure size 1296x576 with 2 Axes>"
      ]
     },
     "metadata": {
      "needs_background": "light"
     },
     "output_type": "display_data"
    }
   ],
   "source": [
    "# Validation Dataset 에서 화재 발생 비율\n",
    "f, ax = plt.subplots(1, 2, figsize=(18, 8))\n",
    "\n",
    "val['fr_yn'].value_counts().plot.pie(explode=[0, 0.1], autopct='%1.1f%%', ax=ax[0], shadow=True)\n",
    "ax[0].set_title('Pie plot - fr_yn')\n",
    "ax[0].set_ylabel('')\n",
    "sns.countplot('fr_yn', data=val, ax=ax[1])\n",
    "ax[1].set_title('Count plot - fr_yn')\n",
    "\n",
    "plt.show()"
   ]
  },
  {
   "cell_type": "markdown",
   "metadata": {},
   "source": [
    "Target Lable을 살펴본 결과, 하나의 결과값에 치우져있지 않기 때문에 분석하기에 무리가 없는 데이터라고 판단한다."
   ]
  },
  {
   "cell_type": "markdown",
   "metadata": {},
   "source": [
    "## <font color='red'>EDA</font>"
   ]
  },
  {
   "cell_type": "markdown",
   "metadata": {},
   "source": [
    "#### Parse datetime"
   ]
  },
  {
   "cell_type": "code",
   "execution_count": 13,
   "metadata": {},
   "outputs": [
    {
     "data": {
      "text/plain": [
       "pandas.core.series.Series"
      ]
     },
     "execution_count": 13,
     "metadata": {},
     "output_type": "execute_result"
    }
   ],
   "source": [
    "type(train.dt_of_fr)"
   ]
  },
  {
   "cell_type": "code",
   "execution_count": 14,
   "metadata": {},
   "outputs": [],
   "source": [
    "train[\"dt_year\"] = train[\"dt_of_fr\"].dt.year\n",
    "train[\"dt_month\"] = train[\"dt_of_fr\"].dt.month\n",
    "train[\"dt_day\"] = train[\"dt_of_fr\"].dt.day\n",
    "train[\"dt_hour\"] = train[\"dt_of_fr\"].dt.hour\n",
    "train[\"dt_minute\"] = train[\"dt_of_fr\"].dt.minute"
   ]
  },
  {
   "cell_type": "code",
   "execution_count": 15,
   "metadata": {},
   "outputs": [],
   "source": [
    "# dayofweek는 날짜에서 요일(월~일)을 가져오는 기능.\n",
    "# 값은 0(월), 1(화), 2(수), 3(목), 4(금), 5(토), 6(일) 을 나타냄.\n",
    "train[\"dt_dayofweek\"] = train[\"dt_of_fr\"].dt.dayofweek"
   ]
  },
  {
   "cell_type": "code",
   "execution_count": 16,
   "metadata": {},
   "outputs": [
    {
     "data": {
      "text/html": [
       "<div>\n",
       "<style scoped>\n",
       "    .dataframe tbody tr th:only-of-type {\n",
       "        vertical-align: middle;\n",
       "    }\n",
       "\n",
       "    .dataframe tbody tr th {\n",
       "        vertical-align: top;\n",
       "    }\n",
       "\n",
       "    .dataframe thead th {\n",
       "        text-align: right;\n",
       "    }\n",
       "</style>\n",
       "<table border=\"1\" class=\"dataframe\">\n",
       "  <thead>\n",
       "    <tr style=\"text-align: right;\">\n",
       "      <th></th>\n",
       "      <th>dt_of_fr</th>\n",
       "      <th>dt_year</th>\n",
       "      <th>dt_month</th>\n",
       "      <th>dt_day</th>\n",
       "      <th>dt_hour</th>\n",
       "      <th>dt_minute</th>\n",
       "      <th>dt_dayofweek</th>\n",
       "    </tr>\n",
       "  </thead>\n",
       "  <tbody>\n",
       "    <tr>\n",
       "      <th>0</th>\n",
       "      <td>2017-10-20 05:54:00</td>\n",
       "      <td>2017</td>\n",
       "      <td>10</td>\n",
       "      <td>20</td>\n",
       "      <td>5</td>\n",
       "      <td>54</td>\n",
       "      <td>4</td>\n",
       "    </tr>\n",
       "    <tr>\n",
       "      <th>1</th>\n",
       "      <td>2018-09-30 08:26:00</td>\n",
       "      <td>2018</td>\n",
       "      <td>9</td>\n",
       "      <td>30</td>\n",
       "      <td>8</td>\n",
       "      <td>26</td>\n",
       "      <td>6</td>\n",
       "    </tr>\n",
       "    <tr>\n",
       "      <th>2</th>\n",
       "      <td>2016-10-30 14:57:00</td>\n",
       "      <td>2016</td>\n",
       "      <td>10</td>\n",
       "      <td>30</td>\n",
       "      <td>14</td>\n",
       "      <td>57</td>\n",
       "      <td>6</td>\n",
       "    </tr>\n",
       "    <tr>\n",
       "      <th>3</th>\n",
       "      <td>2016-06-14 05:23:00</td>\n",
       "      <td>2016</td>\n",
       "      <td>6</td>\n",
       "      <td>14</td>\n",
       "      <td>5</td>\n",
       "      <td>23</td>\n",
       "      <td>1</td>\n",
       "    </tr>\n",
       "    <tr>\n",
       "      <th>4</th>\n",
       "      <td>2018-04-22 05:38:00</td>\n",
       "      <td>2018</td>\n",
       "      <td>4</td>\n",
       "      <td>22</td>\n",
       "      <td>5</td>\n",
       "      <td>38</td>\n",
       "      <td>6</td>\n",
       "    </tr>\n",
       "  </tbody>\n",
       "</table>\n",
       "</div>"
      ],
      "text/plain": [
       "             dt_of_fr  dt_year  dt_month  dt_day  dt_hour  dt_minute  \\\n",
       "0 2017-10-20 05:54:00     2017        10      20        5         54   \n",
       "1 2018-09-30 08:26:00     2018         9      30        8         26   \n",
       "2 2016-10-30 14:57:00     2016        10      30       14         57   \n",
       "3 2016-06-14 05:23:00     2016         6      14        5         23   \n",
       "4 2018-04-22 05:38:00     2018         4      22        5         38   \n",
       "\n",
       "   dt_dayofweek  \n",
       "0             4  \n",
       "1             6  \n",
       "2             6  \n",
       "3             1  \n",
       "4             6  "
      ]
     },
     "execution_count": 16,
     "metadata": {},
     "output_type": "execute_result"
    }
   ],
   "source": [
    "train[[\"dt_of_fr\", \"dt_year\", \"dt_month\", \"dt_day\", \"dt_hour\", \"dt_minute\", \"dt_dayofweek\"]].head()"
   ]
  },
  {
   "cell_type": "markdown",
   "metadata": {},
   "source": [
    "validation dataset과 test dataset에도 동일한 작업을 진행하겠다."
   ]
  },
  {
   "cell_type": "code",
   "execution_count": 17,
   "metadata": {},
   "outputs": [],
   "source": [
    "val[\"dt_year\"] = val[\"dt_of_fr\"].dt.year\n",
    "val[\"dt_month\"] = val[\"dt_of_fr\"].dt.month\n",
    "val[\"dt_day\"] = val[\"dt_of_fr\"].dt.day\n",
    "val[\"dt_hour\"] = val[\"dt_of_fr\"].dt.hour\n",
    "val[\"dt_minute\"] = val[\"dt_of_fr\"].dt.minute\n",
    "val[\"dt_dayofweek\"] = val[\"dt_of_fr\"].dt.dayofweek"
   ]
  },
  {
   "cell_type": "code",
   "execution_count": 18,
   "metadata": {},
   "outputs": [],
   "source": [
    "test[\"dt_year\"] = test[\"dt_of_fr\"].dt.year\n",
    "test[\"dt_month\"] = test[\"dt_of_fr\"].dt.month\n",
    "test[\"dt_day\"] = test[\"dt_of_fr\"].dt.day\n",
    "test[\"dt_hour\"] = test[\"dt_of_fr\"].dt.hour\n",
    "test[\"dt_minute\"] = test[\"dt_of_fr\"].dt.minute\n",
    "test[\"dt_dayofweek\"] = test[\"dt_of_fr\"].dt.dayofweek"
   ]
  },
  {
   "cell_type": "markdown",
   "metadata": {},
   "source": [
    "년, 월, 일, 시, 분, 초를 기준으로 화재 발생 건수를 확인할 필요가 있다."
   ]
  },
  {
   "cell_type": "code",
   "execution_count": 19,
   "metadata": {},
   "outputs": [
    {
     "name": "stdout",
     "output_type": "stream",
     "text": [
      "(59199, 186)\n",
      "(6898, 186)\n",
      "(2957, 186)\n"
     ]
    }
   ],
   "source": [
    "print(train.shape)\n",
    "print(val.shape)\n",
    "print(test.shape)"
   ]
  },
  {
   "cell_type": "code",
   "execution_count": 20,
   "metadata": {},
   "outputs": [
    {
     "data": {
      "text/html": [
       "<div>\n",
       "<style scoped>\n",
       "    .dataframe tbody tr th:only-of-type {\n",
       "        vertical-align: middle;\n",
       "    }\n",
       "\n",
       "    .dataframe tbody tr th {\n",
       "        vertical-align: top;\n",
       "    }\n",
       "\n",
       "    .dataframe thead th {\n",
       "        text-align: right;\n",
       "    }\n",
       "</style>\n",
       "<table border=\"1\" class=\"dataframe\">\n",
       "  <thead>\n",
       "    <tr style=\"text-align: right;\">\n",
       "      <th></th>\n",
       "      <th>year</th>\n",
       "      <th>fire_Yes</th>\n",
       "    </tr>\n",
       "  </thead>\n",
       "  <tbody>\n",
       "    <tr>\n",
       "      <th>3</th>\n",
       "      <td>2014</td>\n",
       "      <td>1388</td>\n",
       "    </tr>\n",
       "    <tr>\n",
       "      <th>0</th>\n",
       "      <td>2015</td>\n",
       "      <td>1715</td>\n",
       "    </tr>\n",
       "    <tr>\n",
       "      <th>2</th>\n",
       "      <td>2016</td>\n",
       "      <td>1532</td>\n",
       "    </tr>\n",
       "    <tr>\n",
       "      <th>1</th>\n",
       "      <td>2017</td>\n",
       "      <td>1675</td>\n",
       "    </tr>\n",
       "    <tr>\n",
       "      <th>4</th>\n",
       "      <td>2018</td>\n",
       "      <td>1347</td>\n",
       "    </tr>\n",
       "  </tbody>\n",
       "</table>\n",
       "</div>"
      ],
      "text/plain": [
       "   year  fire_Yes\n",
       "3  2014      1388\n",
       "0  2015      1715\n",
       "2  2016      1532\n",
       "1  2017      1675\n",
       "4  2018      1347"
      ]
     },
     "execution_count": 20,
     "metadata": {},
     "output_type": "execute_result"
    }
   ],
   "source": [
    "year_fire = train[['dt_year', 'fr_yn']]\n",
    "year_fire = year_fire[year_fire.fr_yn != 'N']\n",
    "year_fire = year_fire[\"dt_year\"].value_counts().rename_axis('year').reset_index(name='fire_Yes')\n",
    "year_fire = year_fire.sort_values([\"year\"], ascending=[True])\n",
    "year_fire.head()"
   ]
  },
  {
   "cell_type": "code",
   "execution_count": 21,
   "metadata": {},
   "outputs": [
    {
     "data": {
      "text/html": [
       "<div>\n",
       "<style scoped>\n",
       "    .dataframe tbody tr th:only-of-type {\n",
       "        vertical-align: middle;\n",
       "    }\n",
       "\n",
       "    .dataframe tbody tr th {\n",
       "        vertical-align: top;\n",
       "    }\n",
       "\n",
       "    .dataframe thead th {\n",
       "        text-align: right;\n",
       "    }\n",
       "</style>\n",
       "<table border=\"1\" class=\"dataframe\">\n",
       "  <thead>\n",
       "    <tr style=\"text-align: right;\">\n",
       "      <th></th>\n",
       "      <th>month</th>\n",
       "      <th>fire_Yes</th>\n",
       "    </tr>\n",
       "  </thead>\n",
       "  <tbody>\n",
       "    <tr>\n",
       "      <th>0</th>\n",
       "      <td>1</td>\n",
       "      <td>798</td>\n",
       "    </tr>\n",
       "    <tr>\n",
       "      <th>3</th>\n",
       "      <td>2</td>\n",
       "      <td>756</td>\n",
       "    </tr>\n",
       "    <tr>\n",
       "      <th>2</th>\n",
       "      <td>3</td>\n",
       "      <td>759</td>\n",
       "    </tr>\n",
       "    <tr>\n",
       "      <th>7</th>\n",
       "      <td>4</td>\n",
       "      <td>582</td>\n",
       "    </tr>\n",
       "    <tr>\n",
       "      <th>4</th>\n",
       "      <td>5</td>\n",
       "      <td>693</td>\n",
       "    </tr>\n",
       "  </tbody>\n",
       "</table>\n",
       "</div>"
      ],
      "text/plain": [
       "   month  fire_Yes\n",
       "0      1       798\n",
       "3      2       756\n",
       "2      3       759\n",
       "7      4       582\n",
       "4      5       693"
      ]
     },
     "execution_count": 21,
     "metadata": {},
     "output_type": "execute_result"
    }
   ],
   "source": [
    "month_fire = train[['dt_month', 'fr_yn']]\n",
    "month_fire = month_fire[month_fire.fr_yn != 'N']\n",
    "month_fire = month_fire[\"dt_month\"].value_counts().rename_axis('month').reset_index(name='fire_Yes')\n",
    "month_fire = month_fire.sort_values([\"month\"], ascending=[True])\n",
    "month_fire.head()"
   ]
  },
  {
   "cell_type": "code",
   "execution_count": 22,
   "metadata": {},
   "outputs": [
    {
     "data": {
      "text/html": [
       "<div>\n",
       "<style scoped>\n",
       "    .dataframe tbody tr th:only-of-type {\n",
       "        vertical-align: middle;\n",
       "    }\n",
       "\n",
       "    .dataframe tbody tr th {\n",
       "        vertical-align: top;\n",
       "    }\n",
       "\n",
       "    .dataframe thead th {\n",
       "        text-align: right;\n",
       "    }\n",
       "</style>\n",
       "<table border=\"1\" class=\"dataframe\">\n",
       "  <thead>\n",
       "    <tr style=\"text-align: right;\">\n",
       "      <th></th>\n",
       "      <th>day</th>\n",
       "      <th>fire_Yes</th>\n",
       "    </tr>\n",
       "  </thead>\n",
       "  <tbody>\n",
       "    <tr>\n",
       "      <th>14</th>\n",
       "      <td>1</td>\n",
       "      <td>254</td>\n",
       "    </tr>\n",
       "    <tr>\n",
       "      <th>4</th>\n",
       "      <td>2</td>\n",
       "      <td>274</td>\n",
       "    </tr>\n",
       "    <tr>\n",
       "      <th>5</th>\n",
       "      <td>3</td>\n",
       "      <td>272</td>\n",
       "    </tr>\n",
       "    <tr>\n",
       "      <th>0</th>\n",
       "      <td>4</td>\n",
       "      <td>284</td>\n",
       "    </tr>\n",
       "    <tr>\n",
       "      <th>18</th>\n",
       "      <td>5</td>\n",
       "      <td>242</td>\n",
       "    </tr>\n",
       "  </tbody>\n",
       "</table>\n",
       "</div>"
      ],
      "text/plain": [
       "    day  fire_Yes\n",
       "14    1       254\n",
       "4     2       274\n",
       "5     3       272\n",
       "0     4       284\n",
       "18    5       242"
      ]
     },
     "execution_count": 22,
     "metadata": {},
     "output_type": "execute_result"
    }
   ],
   "source": [
    "day_fire = train[['dt_day', 'fr_yn']]\n",
    "day_fire = day_fire[day_fire.fr_yn != 'N']\n",
    "day_fire = day_fire[\"dt_day\"].value_counts().rename_axis('day').reset_index(name='fire_Yes')\n",
    "day_fire = day_fire.sort_values([\"day\"], ascending=[True])\n",
    "day_fire.head()"
   ]
  },
  {
   "cell_type": "code",
   "execution_count": 23,
   "metadata": {},
   "outputs": [
    {
     "data": {
      "text/html": [
       "<div>\n",
       "<style scoped>\n",
       "    .dataframe tbody tr th:only-of-type {\n",
       "        vertical-align: middle;\n",
       "    }\n",
       "\n",
       "    .dataframe tbody tr th {\n",
       "        vertical-align: top;\n",
       "    }\n",
       "\n",
       "    .dataframe thead th {\n",
       "        text-align: right;\n",
       "    }\n",
       "</style>\n",
       "<table border=\"1\" class=\"dataframe\">\n",
       "  <thead>\n",
       "    <tr style=\"text-align: right;\">\n",
       "      <th></th>\n",
       "      <th>hour</th>\n",
       "      <th>fire_Yes</th>\n",
       "    </tr>\n",
       "  </thead>\n",
       "  <tbody>\n",
       "    <tr>\n",
       "      <th>18</th>\n",
       "      <td>0</td>\n",
       "      <td>188</td>\n",
       "    </tr>\n",
       "    <tr>\n",
       "      <th>19</th>\n",
       "      <td>1</td>\n",
       "      <td>175</td>\n",
       "    </tr>\n",
       "    <tr>\n",
       "      <th>21</th>\n",
       "      <td>2</td>\n",
       "      <td>144</td>\n",
       "    </tr>\n",
       "    <tr>\n",
       "      <th>20</th>\n",
       "      <td>3</td>\n",
       "      <td>145</td>\n",
       "    </tr>\n",
       "    <tr>\n",
       "      <th>22</th>\n",
       "      <td>4</td>\n",
       "      <td>132</td>\n",
       "    </tr>\n",
       "  </tbody>\n",
       "</table>\n",
       "</div>"
      ],
      "text/plain": [
       "    hour  fire_Yes\n",
       "18     0       188\n",
       "19     1       175\n",
       "21     2       144\n",
       "20     3       145\n",
       "22     4       132"
      ]
     },
     "execution_count": 23,
     "metadata": {},
     "output_type": "execute_result"
    }
   ],
   "source": [
    "hour_fire = train[['dt_hour', 'fr_yn']]\n",
    "hour_fire = hour_fire[hour_fire.fr_yn != 'N']\n",
    "hour_fire = hour_fire[\"dt_hour\"].value_counts().rename_axis('hour').reset_index(name='fire_Yes')\n",
    "hour_fire = hour_fire.sort_values([\"hour\"], ascending=[True])\n",
    "hour_fire.head()"
   ]
  },
  {
   "cell_type": "code",
   "execution_count": 24,
   "metadata": {},
   "outputs": [
    {
     "data": {
      "text/html": [
       "<div>\n",
       "<style scoped>\n",
       "    .dataframe tbody tr th:only-of-type {\n",
       "        vertical-align: middle;\n",
       "    }\n",
       "\n",
       "    .dataframe tbody tr th {\n",
       "        vertical-align: top;\n",
       "    }\n",
       "\n",
       "    .dataframe thead th {\n",
       "        text-align: right;\n",
       "    }\n",
       "</style>\n",
       "<table border=\"1\" class=\"dataframe\">\n",
       "  <thead>\n",
       "    <tr style=\"text-align: right;\">\n",
       "      <th></th>\n",
       "      <th>minute</th>\n",
       "      <th>fire_Yes</th>\n",
       "    </tr>\n",
       "  </thead>\n",
       "  <tbody>\n",
       "    <tr>\n",
       "      <th>2</th>\n",
       "      <td>0</td>\n",
       "      <td>149</td>\n",
       "    </tr>\n",
       "    <tr>\n",
       "      <th>49</th>\n",
       "      <td>1</td>\n",
       "      <td>114</td>\n",
       "    </tr>\n",
       "    <tr>\n",
       "      <th>11</th>\n",
       "      <td>2</td>\n",
       "      <td>137</td>\n",
       "    </tr>\n",
       "    <tr>\n",
       "      <th>21</th>\n",
       "      <td>3</td>\n",
       "      <td>133</td>\n",
       "    </tr>\n",
       "    <tr>\n",
       "      <th>47</th>\n",
       "      <td>4</td>\n",
       "      <td>117</td>\n",
       "    </tr>\n",
       "  </tbody>\n",
       "</table>\n",
       "</div>"
      ],
      "text/plain": [
       "    minute  fire_Yes\n",
       "2        0       149\n",
       "49       1       114\n",
       "11       2       137\n",
       "21       3       133\n",
       "47       4       117"
      ]
     },
     "execution_count": 24,
     "metadata": {},
     "output_type": "execute_result"
    }
   ],
   "source": [
    "minute_fire = train[['dt_minute', 'fr_yn']]\n",
    "minute_fire = minute_fire[minute_fire.fr_yn != 'N']\n",
    "minute_fire = minute_fire[\"dt_minute\"].value_counts().rename_axis('minute').reset_index(name='fire_Yes')\n",
    "minute_fire = minute_fire.sort_values([\"minute\"], ascending=[True])\n",
    "minute_fire.head()"
   ]
  },
  {
   "cell_type": "markdown",
   "metadata": {},
   "source": [
    "#### Explore with visualization"
   ]
  },
  {
   "cell_type": "code",
   "execution_count": 25,
   "metadata": {},
   "outputs": [
    {
     "data": {
      "text/plain": [
       "<matplotlib.axes._subplots.AxesSubplot at 0x1f7434dc2e8>"
      ]
     },
     "execution_count": 25,
     "metadata": {},
     "output_type": "execute_result"
    },
    {
     "data": {
      "image/png": "[encoded data removed]",
      "text/plain": [
       "<Figure size 1296x864 with 4 Axes>"
      ]
     },
     "metadata": {
      "needs_background": "light"
     },
     "output_type": "display_data"
    },
    {
     "data": {
      "image/png": "[encoded data removed]",
      "text/plain": [
       "<Figure size 1296x288 with 1 Axes>"
      ]
     },
     "metadata": {
      "needs_background": "light"
     },
     "output_type": "display_data"
    }
   ],
   "source": [
    "%matplotlib inline\n",
    "\n",
    "# seaborn의 barplot으로, subplots의 각 구역에 연, 월, 일, 시, 별 화재 발생 건수를 출력\n",
    "\n",
    "# 2x2, 총 4개의 시각화를 한 화면에 띄우기\n",
    "figure, ((ax1, ax2), (ax3, ax4)) = plt.subplots(nrows=2, ncols=2)\n",
    "\n",
    "# 시각화의 전체 사이즈는 18x12로 설정\n",
    "figure.set_size_inches(18, 12)\n",
    "\n",
    "sns.barplot(data=year_fire, x=\"year\", y=\"fire_Yes\", ax=ax1)\n",
    "sns.barplot(data=month_fire, x=\"month\", y=\"fire_Yes\", ax=ax2)\n",
    "sns.barplot(data=day_fire, x=\"day\", y=\"fire_Yes\", ax=ax3)\n",
    "sns.barplot(data=hour_fire, x=\"hour\", y=\"fire_Yes\", ax=ax4)\n",
    "\n",
    "# seaborn의 barplot으로 분 별 화재 발생 건수를 출력\n",
    "figure, ax5 = plt.subplots(nrows=1, ncols=1)\n",
    "figure.set_size_inches(18, 4)\n",
    "sns.barplot(data=minute_fire, x=\"minute\", y=\"fire_Yes\", ax=ax5)"
   ]
  },
  {
   "cell_type": "markdown",
   "metadata": {},
   "source": [
    "위 막대그래프를 통해 알 수 있는 내용은 다음과 같다.\n",
    "\n",
    "#### year\n",
    "* 2015년도에 가장 많은 화재가 발생했고 가장 적게 화재가 발생한 2018년과 발생 횟수가 상당히 차이나는 것을 볼 수 있다.<br>\n",
    "* 그렇지만 연도별 화재 발생 건수에 대한 막대그래프에서 일정한 추세를 확인할 수는 없었다.<br>\n",
    "* 2015년도와 2017년도가 다른 해에 비해 왜 더 많은 화재가 발생했는지 확인할 수 있다면 그것을 확인해야 할 것이며,<br>\n",
    "  그렇지 못 하다면 연도별 화재 발생 건수는 분석에 도움이 되지 않을 것으로 보인다.\n",
    "\n",
    "#### month\n",
    "* 겨울에서 초봄(12월-3월)사이에 가장 많이 화재가 발생했으며, 여름에서 늦여름(6-9월)까지는 비교적 화재 발생 건수가 적다.\n",
    "* 5월과 10월, 11월 또한 여름에 비해 화재 발생 건수가 많다. 한창 건조할 봄과 가을이기 때문일 것이다.\n",
    "\n",
    "#### day\n",
    "* 월 초와 월 중반이 다른 때에 비해 화재 발생 건수가 많은 것을 확인할 수 있다.\n",
    "* 그 외의 특정한 추세는 보이지 않으나 31일이 유난히 화재 발생 건수가 적었다.<br>\n",
    "  당연한 것이, 1년 중 1월, 3월, 5월, 7월, 8월, 10월, 12월만 31일이 있기 때문이다. 크게 문제가 될 것 같진 않아 보인다.\n",
    "\n",
    "#### hour\n",
    "* 사람들이 많이 활동하는 시간일수록 화재 발생 건수가 많아지는 추세를 보인다.\n",
    "\n",
    "\n",
    "#### minute\n",
    "* 특별한 추세가 보이지 않는다.\n",
    "\n",
    "\n",
    "#### second\n",
    "* 화재가 발생한 '초'는 전부 0으로 기록되어 있다. 공모전 주최측에서 second는 활용하지 말라고 하였기에 분석 대상에서 제외한다.\n",
    "\n",
    "#### <font color=\"red\">결론 : day는 의미없는 데이터로 보이나 일단은 먼저 앙상블 모델에 투입한다. 이후 day를 제거한 모델을 새로 만들어보기로 하자.</font>"
   ]
  },
  {
   "cell_type": "markdown",
   "metadata": {},
   "source": [
    "## <font color='red'>Feature Engineering</font>"
   ]
  },
  {
   "cell_type": "markdown",
   "metadata": {},
   "source": [
    "1. 문자로 구성된 value를 binary 혹은 categorical 형태로 변형시키기"
   ]
  },
  {
   "cell_type": "code",
   "execution_count": 26,
   "metadata": {},
   "outputs": [],
   "source": [
    "# 화재 발생 여부를 나타내는 'fr_yn' column의 value들을 binary로 변환\n",
    "binary_y = {'N': 0, 'Y': 1}\n",
    "train['fr_yn'] = train['fr_yn'].map(binary_y)\n",
    "val['fr_yn'] = val['fr_yn'].map(binary_y)"
   ]
  },
  {
   "cell_type": "code",
   "execution_count": 27,
   "metadata": {},
   "outputs": [
    {
     "name": "stdout",
     "output_type": "stream",
     "text": [
      "0    1\n",
      "1    0\n",
      "2    1\n",
      "3    0\n",
      "4    0\n",
      "Name: fr_yn, dtype: int64\n",
      "\n",
      "0    0\n",
      "1    0\n",
      "2    0\n",
      "3    1\n",
      "4    0\n",
      "Name: fr_yn, dtype: int64\n"
     ]
    }
   ],
   "source": [
    "print(train['fr_yn'].head())\n",
    "print()\n",
    "print(val['fr_yn'].head())"
   ]
  },
  {
   "cell_type": "code",
   "execution_count": 28,
   "metadata": {},
   "outputs": [
    {
     "data": {
      "text/html": [
       "<div>\n",
       "<style scoped>\n",
       "    .dataframe tbody tr th:only-of-type {\n",
       "        vertical-align: middle;\n",
       "    }\n",
       "\n",
       "    .dataframe tbody tr th {\n",
       "        vertical-align: top;\n",
       "    }\n",
       "\n",
       "    .dataframe thead th {\n",
       "        text-align: right;\n",
       "    }\n",
       "</style>\n",
       "<table border=\"1\" class=\"dataframe\">\n",
       "  <thead>\n",
       "    <tr style=\"text-align: right;\">\n",
       "      <th></th>\n",
       "      <th>dt_of_fr</th>\n",
       "      <th>fr_yn</th>\n",
       "      <th>bldng_us</th>\n",
       "      <th>bldng_archtctr</th>\n",
       "      <th>bldng_cnt</th>\n",
       "      <th>bldng_ar</th>\n",
       "      <th>ttl_ar</th>\n",
       "      <th>lnd_ar</th>\n",
       "      <th>dt_of_athrztn</th>\n",
       "      <th>ttl_grnd_flr</th>\n",
       "      <th>...</th>\n",
       "      <th>dngrs_thng_yn</th>\n",
       "      <th>slf_fr_brgd_yn</th>\n",
       "      <th>blk_dngrs_thng_mnfctr_yn</th>\n",
       "      <th>cltrl_hrtg_yn</th>\n",
       "      <th>dt_year</th>\n",
       "      <th>dt_month</th>\n",
       "      <th>dt_day</th>\n",
       "      <th>dt_hour</th>\n",
       "      <th>dt_minute</th>\n",
       "      <th>dt_dayofweek</th>\n",
       "    </tr>\n",
       "  </thead>\n",
       "  <tbody>\n",
       "    <tr>\n",
       "      <th>0</th>\n",
       "      <td>2017-10-20 05:54:00</td>\n",
       "      <td>1</td>\n",
       "      <td>단독주택</td>\n",
       "      <td>블록구조</td>\n",
       "      <td>3</td>\n",
       "      <td>69.42</td>\n",
       "      <td>69.42</td>\n",
       "      <td>0.0</td>\n",
       "      <td>1977</td>\n",
       "      <td>1.0</td>\n",
       "      <td>...</td>\n",
       "      <td>NaN</td>\n",
       "      <td>NaN</td>\n",
       "      <td>NaN</td>\n",
       "      <td>NaN</td>\n",
       "      <td>2017</td>\n",
       "      <td>10</td>\n",
       "      <td>20</td>\n",
       "      <td>5</td>\n",
       "      <td>54</td>\n",
       "      <td>4</td>\n",
       "    </tr>\n",
       "    <tr>\n",
       "      <th>1</th>\n",
       "      <td>2018-09-30 08:26:00</td>\n",
       "      <td>0</td>\n",
       "      <td>NaN</td>\n",
       "      <td>NaN</td>\n",
       "      <td>3</td>\n",
       "      <td>46.29</td>\n",
       "      <td>46.29</td>\n",
       "      <td>0.0</td>\n",
       "      <td>NaN</td>\n",
       "      <td>1.0</td>\n",
       "      <td>...</td>\n",
       "      <td>NaN</td>\n",
       "      <td>NaN</td>\n",
       "      <td>NaN</td>\n",
       "      <td>NaN</td>\n",
       "      <td>2018</td>\n",
       "      <td>9</td>\n",
       "      <td>30</td>\n",
       "      <td>8</td>\n",
       "      <td>26</td>\n",
       "      <td>6</td>\n",
       "    </tr>\n",
       "    <tr>\n",
       "      <th>2</th>\n",
       "      <td>2016-10-30 14:57:00</td>\n",
       "      <td>1</td>\n",
       "      <td>공동주택</td>\n",
       "      <td>철근콘크리트구조</td>\n",
       "      <td>1</td>\n",
       "      <td>583.80</td>\n",
       "      <td>2516.76</td>\n",
       "      <td>1446.0</td>\n",
       "      <td>2.00011e+07</td>\n",
       "      <td>5.0</td>\n",
       "      <td>...</td>\n",
       "      <td>NaN</td>\n",
       "      <td>NaN</td>\n",
       "      <td>NaN</td>\n",
       "      <td>NaN</td>\n",
       "      <td>2016</td>\n",
       "      <td>10</td>\n",
       "      <td>30</td>\n",
       "      <td>14</td>\n",
       "      <td>57</td>\n",
       "      <td>6</td>\n",
       "    </tr>\n",
       "    <tr>\n",
       "      <th>3</th>\n",
       "      <td>2016-06-14 05:23:00</td>\n",
       "      <td>0</td>\n",
       "      <td>단독주택</td>\n",
       "      <td>일반목구조</td>\n",
       "      <td>2</td>\n",
       "      <td>48.92</td>\n",
       "      <td>48.92</td>\n",
       "      <td>0.0</td>\n",
       "      <td>1936</td>\n",
       "      <td>1.0</td>\n",
       "      <td>...</td>\n",
       "      <td>NaN</td>\n",
       "      <td>NaN</td>\n",
       "      <td>NaN</td>\n",
       "      <td>NaN</td>\n",
       "      <td>2016</td>\n",
       "      <td>6</td>\n",
       "      <td>14</td>\n",
       "      <td>5</td>\n",
       "      <td>23</td>\n",
       "      <td>1</td>\n",
       "    </tr>\n",
       "    <tr>\n",
       "      <th>4</th>\n",
       "      <td>2018-04-22 05:38:00</td>\n",
       "      <td>0</td>\n",
       "      <td>NaN</td>\n",
       "      <td>NaN</td>\n",
       "      <td>2</td>\n",
       "      <td>0.00</td>\n",
       "      <td>0.00</td>\n",
       "      <td>0.0</td>\n",
       "      <td>NaN</td>\n",
       "      <td>NaN</td>\n",
       "      <td>...</td>\n",
       "      <td>NaN</td>\n",
       "      <td>NaN</td>\n",
       "      <td>NaN</td>\n",
       "      <td>NaN</td>\n",
       "      <td>2018</td>\n",
       "      <td>4</td>\n",
       "      <td>22</td>\n",
       "      <td>5</td>\n",
       "      <td>38</td>\n",
       "      <td>6</td>\n",
       "    </tr>\n",
       "  </tbody>\n",
       "</table>\n",
       "<p>5 rows × 186 columns</p>\n",
       "</div>"
      ],
      "text/plain": [
       "             dt_of_fr  fr_yn bldng_us bldng_archtctr  bldng_cnt  bldng_ar  \\\n",
       "0 2017-10-20 05:54:00      1     단독주택           블록구조          3     69.42   \n",
       "1 2018-09-30 08:26:00      0      NaN            NaN          3     46.29   \n",
       "2 2016-10-30 14:57:00      1     공동주택       철근콘크리트구조          1    583.80   \n",
       "3 2016-06-14 05:23:00      0     단독주택          일반목구조          2     48.92   \n",
       "4 2018-04-22 05:38:00      0      NaN            NaN          2      0.00   \n",
       "\n",
       "    ttl_ar  lnd_ar dt_of_athrztn  ttl_grnd_flr  ...  dngrs_thng_yn  \\\n",
       "0    69.42     0.0          1977           1.0  ...            NaN   \n",
       "1    46.29     0.0           NaN           1.0  ...            NaN   \n",
       "2  2516.76  1446.0   2.00011e+07           5.0  ...            NaN   \n",
       "3    48.92     0.0          1936           1.0  ...            NaN   \n",
       "4     0.00     0.0           NaN           NaN  ...            NaN   \n",
       "\n",
       "  slf_fr_brgd_yn  blk_dngrs_thng_mnfctr_yn  cltrl_hrtg_yn  dt_year  dt_month  \\\n",
       "0            NaN                       NaN            NaN     2017        10   \n",
       "1            NaN                       NaN            NaN     2018         9   \n",
       "2            NaN                       NaN            NaN     2016        10   \n",
       "3            NaN                       NaN            NaN     2016         6   \n",
       "4            NaN                       NaN            NaN     2018         4   \n",
       "\n",
       "   dt_day  dt_hour  dt_minute  dt_dayofweek  \n",
       "0      20        5         54             4  \n",
       "1      30        8         26             6  \n",
       "2      30       14         57             6  \n",
       "3      14        5         23             1  \n",
       "4      22        5         38             6  \n",
       "\n",
       "[5 rows x 186 columns]"
      ]
     },
     "execution_count": 28,
     "metadata": {},
     "output_type": "execute_result"
    }
   ],
   "source": [
    "train.head()"
   ]
  },
  {
   "cell_type": "markdown",
   "metadata": {},
   "source": [
    "2. 범주형 변수들을 one-hot encoding 방식으로 처리"
   ]
  },
  {
   "cell_type": "code",
   "execution_count": 29,
   "metadata": {},
   "outputs": [
    {
     "name": "stdout",
     "output_type": "stream",
     "text": [
      "(59199, 186)\n",
      "(6898, 186)\n",
      "(2957, 186)\n"
     ]
    }
   ],
   "source": [
    "print(train.shape)\n",
    "print(val.shape)\n",
    "print(test.shape)"
   ]
  },
  {
   "cell_type": "code",
   "execution_count": 30,
   "metadata": {},
   "outputs": [],
   "source": [
    " # train, val, test를 세로로 아래로 합치기\n",
    "df_all = pd.concat([train, val, test])"
   ]
  },
  {
   "cell_type": "code",
   "execution_count": 31,
   "metadata": {},
   "outputs": [
    {
     "data": {
      "text/plain": [
       "Index(['bldng_archtctr', 'bldng_us', 'bldng_us_clssfctn',\n",
       "       'blk_dngrs_thng_mnfctr_yn', 'cltrl_hrtg_yn', 'dngrs_thng_yn',\n",
       "       'dt_of_athrztn', 'emd_nm', 'fr_fghtng_fclt_spcl_css_5_yn',\n",
       "       'fr_fghtng_fclt_spcl_css_6_yn', 'jmk', 'lnd_us_sttn_nm', 'mlt_us_yn',\n",
       "       'rd_sd_nm', 'rgnl_ar_nm', 'rgnl_ar_nm2', 'slf_fr_brgd_yn', 'trgt_crtr',\n",
       "       'us_yn'],\n",
       "      dtype='object')"
      ]
     },
     "execution_count": 31,
     "metadata": {},
     "output_type": "execute_result"
    }
   ],
   "source": [
    "# 컬럼 data type 중 'object'인 것들만 추려내어 컬럼명으로 리스트 만들기\n",
    "categorical_cols = df_all.select_dtypes(['object']).columns\n",
    "categorical_cols"
   ]
  },
  {
   "cell_type": "code",
   "execution_count": 32,
   "metadata": {},
   "outputs": [],
   "source": [
    "# data type이 'object'인 각 column을 돌며 value값들을 categorical variable로 변환\n",
    "for col in categorical_cols:\n",
    "    df_all[col] = pd.Categorical(df_all[col]).codes"
   ]
  },
  {
   "cell_type": "code",
   "execution_count": 33,
   "metadata": {},
   "outputs": [],
   "source": [
    "# 다시 train, val, test로 잘라내기\n",
    "train = df_all[:len(train)]\n",
    "val = df_all[len(train):-len(test)]\n",
    "test = df_all[-len(test):]"
   ]
  },
  {
   "cell_type": "markdown",
   "metadata": {},
   "source": [
    "3. X_train, y_train, X_val, y_val, test dataframe 구성"
   ]
  },
  {
   "cell_type": "code",
   "execution_count": 34,
   "metadata": {},
   "outputs": [],
   "source": [
    "X_train = train.drop(['fr_yn', 'dt_of_fr'], 1) # train에서 'fr_yn', 'dt_of_fr' column을 drop\n",
    "y_train = train['fr_yn']\n",
    "X_val = val.drop(['fr_yn', 'dt_of_fr'], 1) # val에서 'fr_yn', 'dt_of_fr' column을 drop\n",
    "y_val = val['fr_yn']\n",
    "test = test.drop(['fr_yn', 'dt_of_fr'], 1) # test에서 'fr_yn', dt_of_fr' column을 drop"
   ]
  },
  {
   "cell_type": "markdown",
   "metadata": {},
   "source": [
    "4. 각 dataframe의 결측치를 column의 평균값으로 채우기"
   ]
  },
  {
   "cell_type": "code",
   "execution_count": 35,
   "metadata": {},
   "outputs": [],
   "source": [
    "# 결측치를 가진 row를 제거하는 방식은 X_train의 모든 row를 제거해버리기 때문에 불가능하다.\n",
    "# 결측치를 column의 평균으로 채운 방식을 활용하도록 한다.\n",
    "X_train = X_train.fillna(X_train.mean()) \n",
    "X_val = X_val.fillna(X_val.mean()) \n",
    "test = test.fillna(test.mean())"
   ]
  },
  {
   "cell_type": "code",
   "execution_count": 36,
   "metadata": {},
   "outputs": [
    {
     "name": "stdout",
     "output_type": "stream",
     "text": [
      "(59199, 184)\n",
      "(6898, 184)\n",
      "(2957, 184)\n"
     ]
    }
   ],
   "source": [
    "print(X_train.shape)\n",
    "print(X_val.shape)\n",
    "print(test.shape)"
   ]
  },
  {
   "cell_type": "markdown",
   "metadata": {},
   "source": [
    "## <font color='red'>Train & Evaluate</font> "
   ]
  },
  {
   "cell_type": "markdown",
   "metadata": {},
   "source": [
    "#### Random Forest"
   ]
  },
  {
   "cell_type": "code",
   "execution_count": 37,
   "metadata": {},
   "outputs": [],
   "source": [
    "from sklearn.ensemble import RandomForestClassifier"
   ]
  },
  {
   "cell_type": "code",
   "execution_count": 38,
   "metadata": {
    "scrolled": true
   },
   "outputs": [
    {
     "data": {
      "text/plain": [
       "14"
      ]
     },
     "execution_count": 38,
     "metadata": {},
     "output_type": "execute_result"
    }
   ],
   "source": [
    "round(math.sqrt(len(X_train.columns)))"
   ]
  },
  {
   "cell_type": "code",
   "execution_count": 39,
   "metadata": {
    "scrolled": true
   },
   "outputs": [
    {
     "name": "stdout",
     "output_type": "stream",
     "text": [
      "f1 score : 0.5064102564102564\n",
      "accuracy : 0.8213975065236301\n"
     ]
    }
   ],
   "source": [
    "forest_100 = RandomForestClassifier(n_jobs=-1, n_estimators=100, random_state=42, max_features=round(math.sqrt(len(X_train.columns))))\n",
    "forest_100.fit(X_train, y_train)\n",
    "y_pred = forest_100.predict(X_val)\n",
    "print('f1 score :', f1_score(y_val, y_pred))\n",
    "print('accuracy :', accuracy_score(y_val, y_pred))"
   ]
  },
  {
   "cell_type": "code",
   "execution_count": 40,
   "metadata": {},
   "outputs": [
    {
     "name": "stdout",
     "output_type": "stream",
     "text": [
      "f1 score : 0.5162337662337662\n",
      "accuracy : 0.8271962887793564\n"
     ]
    }
   ],
   "source": [
    "forest_1000 = RandomForestClassifier(n_jobs=-1, n_estimators=1000, random_state=42)\n",
    "forest_1000.fit(X_train, y_train)\n",
    "y_pred = forest_1000.predict(X_val)\n",
    "print('f1 score :', f1_score(y_val, y_pred))\n",
    "print('accuracy :', accuracy_score(y_val, y_pred))"
   ]
  },
  {
   "cell_type": "code",
   "execution_count": 41,
   "metadata": {},
   "outputs": [
    {
     "name": "stdout",
     "output_type": "stream",
     "text": [
      "f1 score : 0.5190965092402464\n",
      "accuracy : 0.8302406494636126\n"
     ]
    }
   ],
   "source": [
    "forest_1000 = RandomForestClassifier(n_jobs=-1, n_estimators=1000, random_state=42, max_features=round(math.sqrt(len(X_train.columns))))\n",
    "forest_1000.fit(X_train, y_train)\n",
    "y_pred = forest_1000.predict(X_val)\n",
    "print('f1 score :', f1_score(y_val, y_pred))\n",
    "print('accuracy :', accuracy_score(y_val, y_pred))"
   ]
  },
  {
   "cell_type": "code",
   "execution_count": 46,
   "metadata": {},
   "outputs": [
    {
     "name": "stdout",
     "output_type": "stream",
     "text": [
      "f1 score : 0.5205702647657842\n",
      "accuracy : 0.8293708321252536\n"
     ]
    }
   ],
   "source": [
    "forest_2000 = RandomForestClassifier(n_jobs=-1, n_estimators=2000, random_state=42, max_features=round(math.sqrt(len(X_train.columns))))\n",
    "forest_2000.fit(X_train, y_train)\n",
    "y_pred = forest_2000.predict(X_val)\n",
    "print('f1 score :', f1_score(y_val, y_pred))\n",
    "print('accuracy :', accuracy_score(y_val, y_pred))"
   ]
  },
  {
   "cell_type": "markdown",
   "metadata": {},
   "source": [
    "## <font color='red'>Prediction</font> "
   ]
  },
  {
   "cell_type": "code",
   "execution_count": 47,
   "metadata": {},
   "outputs": [],
   "source": [
    "predictions = forest_2000.predict(test)"
   ]
  },
  {
   "cell_type": "code",
   "execution_count": 48,
   "metadata": {},
   "outputs": [
    {
     "name": "stdout",
     "output_type": "stream",
     "text": [
      "(2957,)\n"
     ]
    },
    {
     "data": {
      "text/plain": [
       "array([0., 1., 0., 0., 0., 0., 0., 0., 0., 0., 0., 0., 0., 0., 0., 0., 1.,\n",
       "       1., 0., 0.])"
      ]
     },
     "execution_count": 48,
     "metadata": {},
     "output_type": "execute_result"
    }
   ],
   "source": [
    "print(predictions.shape)\n",
    "predictions[0:20]"
   ]
  },
  {
   "cell_type": "code",
   "execution_count": 49,
   "metadata": {},
   "outputs": [],
   "source": [
    "def plot_feature_importance(model, X_train, figsize=(12, 6)):\n",
    "    sns.set_style('darkgrid')\n",
    "    \n",
    "    # Plot feature importance\n",
    "    feature_importance = model.feature_importances_\n",
    "    feature_importance = 100.0 * (feature_importance / feature_importance.max())\n",
    "    sorted_idx = np.argsort(feature_importance)\n",
    "    pos = np.arange(sorted_idx.shape[0]) + .5\n",
    "\n",
    "    plt.figure(figsize=figsize)\n",
    "    plt.barh(pos, feature_importance[sorted_idx], align='center')\n",
    "    plt.yticks(pos, X_train.columns[sorted_idx])\n",
    "    plt.xlabel('Relative Importance')\n",
    "    plt.title('Variable Importance')\n",
    "    plt.show()"
   ]
  },
  {
   "cell_type": "code",
   "execution_count": 53,
   "metadata": {},
   "outputs": [
    {
     "data": {
      "image/png": "[encoded data removed]",
      "text/plain": [
       "<Figure size 720x2520 with 1 Axes>"
      ]
     },
     "metadata": {},
     "output_type": "display_data"
    }
   ],
   "source": [
    "plot_feature_importance(forest_2000, X_train, (10, 35))"
   ]
  },
  {
   "cell_type": "markdown",
   "metadata": {},
   "source": [
    "## <font color='red'>Prediction</font> "
   ]
  },
  {
   "cell_type": "code",
   "execution_count": 54,
   "metadata": {},
   "outputs": [
    {
     "data": {
      "text/html": [
       "<div>\n",
       "<style scoped>\n",
       "    .dataframe tbody tr th:only-of-type {\n",
       "        vertical-align: middle;\n",
       "    }\n",
       "\n",
       "    .dataframe tbody tr th {\n",
       "        vertical-align: top;\n",
       "    }\n",
       "\n",
       "    .dataframe thead th {\n",
       "        text-align: right;\n",
       "    }\n",
       "</style>\n",
       "<table border=\"1\" class=\"dataframe\">\n",
       "  <thead>\n",
       "    <tr style=\"text-align: right;\">\n",
       "      <th></th>\n",
       "      <th>fr_yn</th>\n",
       "    </tr>\n",
       "  </thead>\n",
       "  <tbody>\n",
       "    <tr>\n",
       "      <th>0</th>\n",
       "      <td>N</td>\n",
       "    </tr>\n",
       "    <tr>\n",
       "      <th>1</th>\n",
       "      <td>Y</td>\n",
       "    </tr>\n",
       "    <tr>\n",
       "      <th>2</th>\n",
       "      <td>N</td>\n",
       "    </tr>\n",
       "    <tr>\n",
       "      <th>3</th>\n",
       "      <td>N</td>\n",
       "    </tr>\n",
       "    <tr>\n",
       "      <th>4</th>\n",
       "      <td>N</td>\n",
       "    </tr>\n",
       "  </tbody>\n",
       "</table>\n",
       "</div>"
      ],
      "text/plain": [
       "  fr_yn\n",
       "0     N\n",
       "1     Y\n",
       "2     N\n",
       "3     N\n",
       "4     N"
      ]
     },
     "execution_count": 54,
     "metadata": {},
     "output_type": "execute_result"
    }
   ],
   "source": [
    "sub['fr_yn'] = predictions\n",
    "sub['fr_yn'] = sub['fr_yn'].map({0:'N', 1:'Y'})\n",
    "sub.head()"
   ]
  },
  {
   "cell_type": "code",
   "execution_count": 55,
   "metadata": {},
   "outputs": [],
   "source": [
    "sub.to_csv('yhw8258_화재예측과제_Submission.csv', index=False)"
   ]
  },
  {
   "cell_type": "code",
   "execution_count": null,
   "metadata": {},
   "outputs": [],
   "source": []
  }
 ],
 "metadata": {
  "kernelspec": {
   "display_name": "Python 3",
   "language": "python",
   "name": "python3"
  },
  "language_info": {
   "codemirror_mode": {
    "name": "ipython",
    "version": 3
   },
   "file_extension": ".py",
   "mimetype": "text/x-python",
   "name": "python",
   "nbconvert_exporter": "python",
   "pygments_lexer": "ipython3",
   "version": "3.7.3"
  }
 },
 "nbformat": 4,
 "nbformat_minor": 2
}
