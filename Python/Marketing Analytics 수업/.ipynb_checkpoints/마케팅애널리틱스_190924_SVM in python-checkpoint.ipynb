{
 "cells": [
  {
   "cell_type": "code",
   "execution_count": 2,
   "metadata": {},
   "outputs": [],
   "source": [
    "import numpy as np\n",
    "import matplotlib.pyplot as plt\n",
    "from sklearn.svm import SVC"
   ]
  },
  {
   "cell_type": "markdown",
   "metadata": {},
   "source": [
    "# Fitting"
   ]
  },
  {
   "cell_type": "code",
   "execution_count": 11,
   "metadata": {},
   "outputs": [
    {
     "data": {
      "text/plain": [
       "array([[1, 1],\n",
       "       [2, 1]])"
      ]
     },
     "execution_count": 11,
     "metadata": {},
     "output_type": "execute_result"
    }
   ],
   "source": [
    "x = np.array([[1,1],[2,1]]) # feature\n",
    "y = np.array([1,2]) # label\n",
    "x"
   ]
  },
  {
   "cell_type": "code",
   "execution_count": 17,
   "metadata": {},
   "outputs": [
    {
     "data": {
      "text/plain": [
       "SVC(C=1.0, cache_size=200, class_weight=None, coef0=0.0,\n",
       "    decision_function_shape='ovr', degree=3, gamma='auto_deprecated',\n",
       "    kernel='linear', max_iter=-1, probability=False, random_state=None,\n",
       "    shrinking=True, tol=0.001, verbose=False)"
      ]
     },
     "execution_count": 17,
     "metadata": {},
     "output_type": "execute_result"
    },
    {
     "data": {
      "image/png": "[encoded data removed]",
      "text/plain": [
       "<Figure size 432x288 with 1 Axes>"
      ]
     },
     "metadata": {
      "needs_background": "light"
     },
     "output_type": "display_data"
    }
   ],
   "source": [
    "plt.scatter(x[:,0], x[:,1])\n",
    "clf=SVC(kernel='linear')\n",
    "clf.fit(x, y)"
   ]
  },
  {
   "cell_type": "code",
   "execution_count": 21,
   "metadata": {},
   "outputs": [
    {
     "name": "stdout",
     "output_type": "stream",
     "text": [
      "[[1 1]]\n",
      "[1 1]\n"
     ]
    }
   ],
   "source": [
    "print(x[:1])\n",
    "print(x[:,1])\n",
    "# 이게 어떤 차이일까?"
   ]
  },
  {
   "cell_type": "markdown",
   "metadata": {},
   "source": [
    "### 현재 x = [[1,1],[2,1]]\n",
    "\n",
    "#### print(x[:1])\n",
    "이것은 x라는 array의 원소 중 index 0부터 index 1이전 까지의 원소를 출력.\n",
    "즉, array의 원소 중 index 0만을 출력.\n",
    "\n",
    "#### print(x[:,1])\n",
    "이것은 x라는 array의 모든 원소들에 대하여 각 원소의 두 번째 원소(왜냐하면 index 1은 두 번째 원소이기 때문에!) 를 차례대로 출력. 즉, x의 첫 번째 원소 [1,1] 의 두 번째 원소 1 과 x의 두 번째 원소 [2,1]의 두 번째 원소 1이 출력된 것이다.\n",
    "\n",
    "#### iris.data[ : , : 2] 는 무엇일까?\n",
    "교수님이 과제내주신 것에서 VIsualization 쪽에 이게 있었다.\n",
    "콤마를 기준으로 왼쪽은 row 갯수, 오른쪽은 column 갯수를 의미한다.\n",
    "즉, row는 전부 가져오고, column은 두 번째 것 까지만 가져오라.\n",
    "(사실 잘 모르겠음...)"
   ]
  },
  {
   "cell_type": "code",
   "execution_count": 22,
   "metadata": {},
   "outputs": [],
   "source": [
    "# Define the borders of our grid using maximization from x and y\n",
    "x_min, x_max = x[:, 0].min() - 1, x[:, 0].max() + 1 # plot의 처음과 끝값을 지정해주기 위한 변수. 그림을 더 이쁘게 그리려고 설정중.\n",
    "y_min, y_max = x[:, 1].min() - 1, x[:, 1].max() + 1 # 마찬가지\n",
    "h=.02 # 축의 단위 설정 변수. 간격을 조정하는 것이다. 적을수록 세밀"
   ]
  },
  {
   "cell_type": "code",
   "execution_count": 23,
   "metadata": {},
   "outputs": [],
   "source": [
    "# Define the grid with the useful meshgrid function\n",
    "# xx – y의 차원크기의 행의 개수만큼 반복된 값을 가지고 있는 변수\n",
    "# yy – x의 차원크기의 열의 개수만큼 반복된 값을 가지고 있는 변수\n",
    "xx, yy = np.meshgrid(np.arange(x_min, x_max, h),\n",
    "                     np.arange(y_min, y_max, h))\n",
    "\n",
    "\n",
    "# 함수 설명\n",
    "\n",
    "# np.meshgrid() : 1차원 배열형태의 데이터들이 주어지면 2차원 배열형태로 교체해주는 함수. 그래프에 그리드를 그려준다고 생각하자.\n",
    "\n",
    "# np.arange(3, 21, 2)  # 시작, 끝(포함하지 않음), 간격: 지정된 간격 내에서 균등하게 간격을 둔 값을 배열\n",
    "# >> array([ 3,  5,  7,  9, 11, 13, 15, 17, 19])"
   ]
  },
  {
   "cell_type": "code",
   "execution_count": 24,
   "metadata": {},
   "outputs": [
    {
     "data": {
      "text/plain": [
       "array([[0.  , 0.02, 0.04, ..., 2.94, 2.96, 2.98],\n",
       "       [0.  , 0.02, 0.04, ..., 2.94, 2.96, 2.98],\n",
       "       [0.  , 0.02, 0.04, ..., 2.94, 2.96, 2.98],\n",
       "       ...,\n",
       "       [0.  , 0.02, 0.04, ..., 2.94, 2.96, 2.98],\n",
       "       [0.  , 0.02, 0.04, ..., 2.94, 2.96, 2.98],\n",
       "       [0.  , 0.02, 0.04, ..., 2.94, 2.96, 2.98]])"
      ]
     },
     "execution_count": 24,
     "metadata": {},
     "output_type": "execute_result"
    }
   ],
   "source": [
    "xx"
   ]
  },
  {
   "cell_type": "code",
   "execution_count": 25,
   "metadata": {},
   "outputs": [
    {
     "data": {
      "text/plain": [
       "(100, 150)"
      ]
     },
     "execution_count": 25,
     "metadata": {},
     "output_type": "execute_result"
    }
   ],
   "source": [
    "xx.shape\n",
    "# 0부터 2까지 0.02씩 쪼갰을 때 100개\n",
    "# 0부터 3까지 0.02씩 쪼갰을 때 150개"
   ]
  },
  {
   "cell_type": "markdown",
   "metadata": {},
   "source": [
    "# Predict"
   ]
  },
  {
   "cell_type": "code",
   "execution_count": 26,
   "metadata": {},
   "outputs": [],
   "source": [
    "# 학습된 clf 모델에 데이터를 입력후 어떤 class값인지 분류한 값을 Z변수에 저장함. 즉 Z값은 분류결과\n",
    "# 위에서 2차원으로 펼쳐놨던 xx를 다시 일렬로 펼쳐놓는 것이다.\n",
    "Z = clf.predict(np.c_[xx.ravel(), yy.ravel()])\n",
    "\n",
    "# 그래프 상의 모든 점들이 어느 그룹에 속하고 있는지 classification"
   ]
  },
  {
   "cell_type": "code",
   "execution_count": 27,
   "metadata": {},
   "outputs": [],
   "source": [
    "# np.c_[xx.ravel(), yy.ravel()]\n",
    "# 이것은 그래프 상의 모든 그리드 위의 점을 표현\n",
    "# classification 하기 위함임."
   ]
  },
  {
   "cell_type": "code",
   "execution_count": 28,
   "metadata": {},
   "outputs": [],
   "source": [
    "Z = Z.reshape(xx.shape)"
   ]
  },
  {
   "cell_type": "code",
   "execution_count": 29,
   "metadata": {},
   "outputs": [
    {
     "data": {
      "text/plain": [
       "(0, 2)"
      ]
     },
     "execution_count": 29,
     "metadata": {},
     "output_type": "execute_result"
    },
    {
     "data": {
      "image/png": "[encoded data removed]",
      "text/plain": [
       "<Figure size 432x288 with 1 Axes>"
      ]
     },
     "metadata": {
      "needs_background": "light"
     },
     "output_type": "display_data"
    }
   ],
   "source": [
    "plt.contourf(xx, yy, Z, cmap=plt.cm.autumn, alpha=1)\n",
    "plt.scatter(x[:, 0], x[:, 1], c=y, cmap=plt.cm.Paired, s=100)\n",
    "plt.xlim(x_min, x_max)\n",
    "plt.ylim(y_min, y_max)"
   ]
  },
  {
   "cell_type": "code",
   "execution_count": 30,
   "metadata": {},
   "outputs": [
    {
     "data": {
      "text/plain": [
       "(0, 2)"
      ]
     },
     "execution_count": 30,
     "metadata": {},
     "output_type": "execute_result"
    },
    {
     "data": {
      "image/png": "[encoded data removed]",
      "text/plain": [
       "<Figure size 432x288 with 1 Axes>"
      ]
     },
     "metadata": {
      "needs_background": "light"
     },
     "output_type": "display_data"
    }
   ],
   "source": [
    "clf = SVC(kernel='poly', gamma='auto')\n",
    "clf.fit(x, y)\n",
    "x_min, x_max = x[:, 0].min() - 1, x[:, 0].max() + 1\n",
    "y_min, y_max = x[:, 1].min() - 1, x[:, 1].max() + 1\n",
    "Z = clf.predict(np.c_[xx.ravel(), yy.ravel()])\n",
    "Z = Z.reshape(xx.shape)\n",
    "plt.contourf(xx, yy, Z, cmap=plt.cm.autumn, alpha=1)\n",
    "plt.scatter(x[:, 0], x[:, 1], c=y, cmap=plt.cm.Paired, s=100)\n",
    "plt.xlim(x_min, x_max)\n",
    "plt.ylim(y_min, y_max)\n",
    "\n",
    "# 이렇게 kernel을 linear 말고 poly로 바꾸면 요래 나올 수도 있다."
   ]
  },
  {
   "cell_type": "code",
   "execution_count": null,
   "metadata": {},
   "outputs": [],
   "source": []
  },
  {
   "cell_type": "code",
   "execution_count": null,
   "metadata": {},
   "outputs": [],
   "source": []
  }
 ],
 "metadata": {
  "kernelspec": {
   "display_name": "Python 3",
   "language": "python",
   "name": "python3"
  },
  "language_info": {
   "codemirror_mode": {
    "name": "ipython",
    "version": 3
   },
   "file_extension": ".py",
   "mimetype": "text/x-python",
   "name": "python",
   "nbconvert_exporter": "python",
   "pygments_lexer": "ipython3",
   "version": "3.7.3"
  }
 },
 "nbformat": 4,
 "nbformat_minor": 2
}
